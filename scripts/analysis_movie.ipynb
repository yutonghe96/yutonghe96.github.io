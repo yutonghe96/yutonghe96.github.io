{
 "cells": [
  {
   "cell_type": "code",
   "execution_count": 1,
   "id": "2e07c48a",
   "metadata": {},
   "outputs": [],
   "source": [
    "import pandas as pd\n",
    "import numpy as np\n",
    "import matplotlib.pyplot as plt\n",
    "import plotly.express as px\n",
    "import plotly.graph_objects as go\n",
    "from plotly.subplots import make_subplots\n",
    "import re\n",
    "import numpy as np\n",
    "import pandas as pd\n",
    "import matplotlib.cm as cm\n",
    "from matplotlib.colors import to_hex\n",
    "import plotly.graph_objects as go\n",
    "import textwrap\n",
    "import matplotlib.colors as mcolors\n",
    "import matplotlib"
   ]
  },
  {
   "cell_type": "code",
   "execution_count": 2,
   "id": "612781ce",
   "metadata": {},
   "outputs": [],
   "source": [
    "df = pd.read_csv('../data/8d7ebe8b-e59c-4c20-b5a5-fa075b20c70f.csv')\n",
    "df.columns = df.columns.str.lower()\n",
    "df.columns = df.columns.str.replace(' ', '_')\n",
    "df.columns = df.columns.str.replace('-', '_')\n",
    "df.columns = df.columns.str.replace('(', '')\n",
    "df.columns = df.columns.str.replace(')', '')\n",
    "df = df.dropna(axis=1, how='all')\n",
    "REMOVE_COLS = [\n",
    "    'const', \n",
    "    'original_title',\n",
    "    'date_rated', \n",
    "    'url', \n",
    "    'imdb_rating', \n",
    "    'num_votes', \n",
    "    'release_date', \n",
    "    'directors'\n",
    "    ]\n",
    "df = df.drop(columns=REMOVE_COLS)\n",
    "df['title_type'] = df['title_type'].apply(lambda x: 'TV' if 'TV' in x else x)\n",
    "df['title_type'] = df['title_type'].apply(lambda x: x if x in ['Movie', 'TV'] else 'Other')\n",
    "df = df.sort_values(by='your_rating', ascending=False)\n",
    "df.rename(columns={'title_type': 'flag', 'genres': 'genre'}, inplace=True)\n",
    "df['flag'] = df['flag'].replace('Other', 'Movie')"
   ]
  },
  {
   "cell_type": "code",
   "execution_count": 3,
   "id": "e2ac42bb",
   "metadata": {},
   "outputs": [
    {
     "data": {
      "text/html": [
       "<div>\n",
       "<style scoped>\n",
       "    .dataframe tbody tr th:only-of-type {\n",
       "        vertical-align: middle;\n",
       "    }\n",
       "\n",
       "    .dataframe tbody tr th {\n",
       "        vertical-align: top;\n",
       "    }\n",
       "\n",
       "    .dataframe thead th {\n",
       "        text-align: right;\n",
       "    }\n",
       "</style>\n",
       "<table border=\"1\" class=\"dataframe\">\n",
       "  <thead>\n",
       "    <tr style=\"text-align: right;\">\n",
       "      <th></th>\n",
       "      <th>flag</th>\n",
       "      <th>genre</th>\n",
       "      <th>count</th>\n",
       "      <th>rating</th>\n",
       "    </tr>\n",
       "  </thead>\n",
       "  <tbody>\n",
       "    <tr>\n",
       "      <th>12</th>\n",
       "      <td>TV</td>\n",
       "      <td>Mystery / Thriller</td>\n",
       "      <td>32.6</td>\n",
       "      <td>10.0</td>\n",
       "    </tr>\n",
       "    <tr>\n",
       "      <th>14</th>\n",
       "      <td>TV</td>\n",
       "      <td>Sci-Fi / Fantasy</td>\n",
       "      <td>32.3</td>\n",
       "      <td>9.7</td>\n",
       "    </tr>\n",
       "    <tr>\n",
       "      <th>11</th>\n",
       "      <td>TV</td>\n",
       "      <td>Drama</td>\n",
       "      <td>48.0</td>\n",
       "      <td>9.6</td>\n",
       "    </tr>\n",
       "    <tr>\n",
       "      <th>10</th>\n",
       "      <td>TV</td>\n",
       "      <td>Action / Adventure</td>\n",
       "      <td>37.8</td>\n",
       "      <td>9.3</td>\n",
       "    </tr>\n",
       "    <tr>\n",
       "      <th>13</th>\n",
       "      <td>TV</td>\n",
       "      <td>Other</td>\n",
       "      <td>96.3</td>\n",
       "      <td>8.8</td>\n",
       "    </tr>\n",
       "    <tr>\n",
       "      <th>4</th>\n",
       "      <td>Movie</td>\n",
       "      <td>History / Biography</td>\n",
       "      <td>62.1</td>\n",
       "      <td>8.7</td>\n",
       "    </tr>\n",
       "    <tr>\n",
       "      <th>3</th>\n",
       "      <td>Movie</td>\n",
       "      <td>Drama</td>\n",
       "      <td>198.5</td>\n",
       "      <td>8.6</td>\n",
       "    </tr>\n",
       "    <tr>\n",
       "      <th>7</th>\n",
       "      <td>Movie</td>\n",
       "      <td>Romance</td>\n",
       "      <td>41.4</td>\n",
       "      <td>8.4</td>\n",
       "    </tr>\n",
       "    <tr>\n",
       "      <th>9</th>\n",
       "      <td>Movie</td>\n",
       "      <td>War / Western</td>\n",
       "      <td>36.7</td>\n",
       "      <td>8.3</td>\n",
       "    </tr>\n",
       "    <tr>\n",
       "      <th>8</th>\n",
       "      <td>Movie</td>\n",
       "      <td>Sci-Fi / Fantasy</td>\n",
       "      <td>178.6</td>\n",
       "      <td>8.0</td>\n",
       "    </tr>\n",
       "    <tr>\n",
       "      <th>5</th>\n",
       "      <td>Movie</td>\n",
       "      <td>Mystery / Thriller</td>\n",
       "      <td>208.4</td>\n",
       "      <td>7.8</td>\n",
       "    </tr>\n",
       "    <tr>\n",
       "      <th>0</th>\n",
       "      <td>Movie</td>\n",
       "      <td>Action / Adventure</td>\n",
       "      <td>357.9</td>\n",
       "      <td>7.6</td>\n",
       "    </tr>\n",
       "    <tr>\n",
       "      <th>6</th>\n",
       "      <td>Movie</td>\n",
       "      <td>Other</td>\n",
       "      <td>91.9</td>\n",
       "      <td>7.4</td>\n",
       "    </tr>\n",
       "    <tr>\n",
       "      <th>2</th>\n",
       "      <td>Movie</td>\n",
       "      <td>Crime</td>\n",
       "      <td>74.3</td>\n",
       "      <td>7.0</td>\n",
       "    </tr>\n",
       "    <tr>\n",
       "      <th>1</th>\n",
       "      <td>Movie</td>\n",
       "      <td>Comedy</td>\n",
       "      <td>81.2</td>\n",
       "      <td>7.0</td>\n",
       "    </tr>\n",
       "  </tbody>\n",
       "</table>\n",
       "</div>"
      ],
      "text/plain": [
       "     flag                genre  count  rating\n",
       "12     TV   Mystery / Thriller   32.6    10.0\n",
       "14     TV     Sci-Fi / Fantasy   32.3     9.7\n",
       "11     TV                Drama   48.0     9.6\n",
       "10     TV   Action / Adventure   37.8     9.3\n",
       "13     TV                Other   96.3     8.8\n",
       "4   Movie  History / Biography   62.1     8.7\n",
       "3   Movie                Drama  198.5     8.6\n",
       "7   Movie              Romance   41.4     8.4\n",
       "9   Movie        War / Western   36.7     8.3\n",
       "8   Movie     Sci-Fi / Fantasy  178.6     8.0\n",
       "5   Movie   Mystery / Thriller  208.4     7.8\n",
       "0   Movie   Action / Adventure  357.9     7.6\n",
       "6   Movie                Other   91.9     7.4\n",
       "2   Movie                Crime   74.3     7.0\n",
       "1   Movie               Comedy   81.2     7.0"
      ]
     },
     "execution_count": 3,
     "metadata": {},
     "output_type": "execute_result"
    }
   ],
   "source": [
    "# Step 1: explode genres and compute weights per row\n",
    "df_genres = df[['flag', 'genre', 'your_rating']].dropna(subset=['genre'])\n",
    "df_genres = df_genres.assign(\n",
    "    genre=df_genres['genre'].str.split(',')\n",
    ")\n",
    "df_exploded = df_genres.explode('genre')\n",
    "df_exploded['genre'] = df_exploded['genre'].str.strip()\n",
    "\n",
    "# Combine sci-fi and fantasy into \"sci-fi fantasy\"\n",
    "df_exploded['genre'] = df_exploded['genre'].replace({\n",
    "    'Sci-Fi': 'Sci-Fi / Fantasy', 'Fantasy': 'Sci-Fi / Fantasy',\n",
    "    'History': 'History / Biography', 'Biography': 'History / Biography',\n",
    "    'War': 'War / Western', 'Western': 'War / Western',\n",
    "    'Mystery': 'Mystery / Thriller', 'Thriller': 'Mystery / Thriller',\n",
    "    'Action': 'Action / Adventure', 'Adventure': 'Action / Adventure',\n",
    "    'Music': 'Music / Musical', 'Musical': 'Music / Musical',\n",
    "    })\n",
    "\n",
    "# Compute weight = 1 / number of genres per original entry\n",
    "df_exploded['weight'] = df_exploded.groupby(df_exploded.index)['genre'].transform(lambda x: 1 / len(x))\n",
    "\n",
    "# Step 2: compute weighted counts and ratings\n",
    "df_exploded['weighted_rating'] = df_exploded['your_rating'] * df_exploded['weight']\n",
    "\n",
    "# Step 3: aggregate by flag + genre\n",
    "df_flag_genre = (\n",
    "    df_exploded.groupby(['flag', 'genre'], as_index=False)\n",
    "    .agg(count=('weight', 'sum'),\n",
    "         rating_sum=('weighted_rating', 'sum'))\n",
    ")\n",
    "\n",
    "# Step 4: compute average weighted rating\n",
    "df_flag_genre['rating'] = df_flag_genre['rating_sum'] / df_flag_genre['count']\n",
    "df_flag_genre.drop(columns='rating_sum', inplace=True)\n",
    "\n",
    "# Step 5: optionally group small genres into \"Other\" per flag\n",
    "threshold = 30\n",
    "df_flag_genre['genre'] = df_flag_genre.apply(\n",
    "    lambda row: row['genre'] if row['count'] >= threshold else 'Other', axis=1\n",
    ")\n",
    "df_flag_genre = (\n",
    "    df_flag_genre.groupby(['flag', 'genre'], as_index=False)\n",
    "    .agg(count=('count', 'sum'),\n",
    "         rating=('rating', 'mean'))  # averaging ratings of merged genres\n",
    ")\n",
    "\n",
    "df_flag_genre = df_flag_genre.sort_values(['flag', 'count'], ascending=[True, False])\n",
    "\n",
    "# Step 6: normalize ratings to 10\n",
    "min_rating = df_flag_genre['rating'].min()\n",
    "max_rating = df_flag_genre['rating'].max()\n",
    "if max_rating != min_rating:\n",
    "    df_flag_genre['rating'] = min_rating + (df_flag_genre['rating'] - min_rating) * (10 - min_rating) / (max_rating - min_rating)\n",
    "\n",
    "df_flag_genre.sort_values('rating', ascending=False).round(1)"
   ]
  },
  {
   "cell_type": "code",
   "execution_count": 5,
   "id": "417c2f5a",
   "metadata": {},
   "outputs": [
    {
     "data": {
      "application/vnd.plotly.v1+json": {
       "config": {
        "plotlyServerURL": "https://plot.ly"
       },
       "data": [
        {
         "branchvalues": "total",
         "hoverinfo": "none",
         "ids": [
          "Movie | Action / Adventure",
          "Movie | Mystery / Thriller",
          "Movie | Drama",
          "Movie | Sci-Fi / Fantasy",
          "Movie | Other",
          "Movie | Comedy",
          "Movie | Crime",
          "Movie | History /<br>Biography",
          "Movie | Romance",
          "Movie | War /<br>Western",
          "TV | Other",
          "TV | Drama",
          "TV | Action /<br>Adventure",
          "TV | Mystery /<br>Thriller",
          "TV | Sci-Fi /<br>Fantasy"
         ],
         "labels": [
          "Action / Adventure",
          "Mystery / Thriller",
          "Drama",
          "Sci-Fi / Fantasy",
          "Other",
          "Comedy",
          "Crime",
          "History /<br>Biography",
          "Romance",
          "War /<br>Western",
          "Other",
          "Drama",
          "Action /<br>Adventure",
          "Mystery /<br>Thriller",
          "Sci-Fi /<br>Fantasy"
         ],
         "marker": {
          "colors": [
           "royalblue",
           "royalblue",
           "royalblue",
           "royalblue",
           "royalblue",
           "royalblue",
           "royalblue",
           "royalblue",
           "royalblue",
           "royalblue",
           "gold",
           "gold",
           "gold",
           "gold",
           "gold"
          ],
          "line": {
           "color": "black",
           "width": 1
          }
         },
         "parents": [
          "",
          "",
          "",
          "",
          "",
          "",
          "",
          "",
          "",
          "",
          "",
          "",
          "",
          "",
          ""
         ],
         "textinfo": "label+value+percent parent",
         "textposition": "middle center",
         "texttemplate": "%{label}<br>(%{value:.0f}, %{percentParent:.0%})",
         "type": "treemap",
         "values": {
          "bdata": "7dRO7dRedkCZjMmYjA1qQLqhG7qhz2hAbuiGbuhSZkD/8i//8vdWQGQ/9mM/TlRAFVIhFVKRUkDSGq3RGg1PQIRHeIRHuERASZIkSZJUQkDw7HGq1RRYQM1LjirA/0dAT96HCcfqQkAf0sTYukdAQOQpQZ4SJEBA",
          "dtype": "f8"
         }
        }
       ],
       "layout": {
        "font": {
         "color": "white",
         "size": 11
        },
        "height": 560,
        "margin": {
         "b": 1,
         "l": 1,
         "r": 1,
         "t": 20
        },
        "template": {
         "data": {
          "bar": [
           {
            "error_x": {
             "color": "#f2f5fa"
            },
            "error_y": {
             "color": "#f2f5fa"
            },
            "marker": {
             "line": {
              "color": "rgb(17,17,17)",
              "width": 0.5
             },
             "pattern": {
              "fillmode": "overlay",
              "size": 10,
              "solidity": 0.2
             }
            },
            "type": "bar"
           }
          ],
          "barpolar": [
           {
            "marker": {
             "line": {
              "color": "rgb(17,17,17)",
              "width": 0.5
             },
             "pattern": {
              "fillmode": "overlay",
              "size": 10,
              "solidity": 0.2
             }
            },
            "type": "barpolar"
           }
          ],
          "carpet": [
           {
            "aaxis": {
             "endlinecolor": "#A2B1C6",
             "gridcolor": "#506784",
             "linecolor": "#506784",
             "minorgridcolor": "#506784",
             "startlinecolor": "#A2B1C6"
            },
            "baxis": {
             "endlinecolor": "#A2B1C6",
             "gridcolor": "#506784",
             "linecolor": "#506784",
             "minorgridcolor": "#506784",
             "startlinecolor": "#A2B1C6"
            },
            "type": "carpet"
           }
          ],
          "choropleth": [
           {
            "colorbar": {
             "outlinewidth": 0,
             "ticks": ""
            },
            "type": "choropleth"
           }
          ],
          "contour": [
           {
            "colorbar": {
             "outlinewidth": 0,
             "ticks": ""
            },
            "colorscale": [
             [
              0,
              "#0d0887"
             ],
             [
              0.1111111111111111,
              "#46039f"
             ],
             [
              0.2222222222222222,
              "#7201a8"
             ],
             [
              0.3333333333333333,
              "#9c179e"
             ],
             [
              0.4444444444444444,
              "#bd3786"
             ],
             [
              0.5555555555555556,
              "#d8576b"
             ],
             [
              0.6666666666666666,
              "#ed7953"
             ],
             [
              0.7777777777777778,
              "#fb9f3a"
             ],
             [
              0.8888888888888888,
              "#fdca26"
             ],
             [
              1,
              "#f0f921"
             ]
            ],
            "type": "contour"
           }
          ],
          "contourcarpet": [
           {
            "colorbar": {
             "outlinewidth": 0,
             "ticks": ""
            },
            "type": "contourcarpet"
           }
          ],
          "heatmap": [
           {
            "colorbar": {
             "outlinewidth": 0,
             "ticks": ""
            },
            "colorscale": [
             [
              0,
              "#0d0887"
             ],
             [
              0.1111111111111111,
              "#46039f"
             ],
             [
              0.2222222222222222,
              "#7201a8"
             ],
             [
              0.3333333333333333,
              "#9c179e"
             ],
             [
              0.4444444444444444,
              "#bd3786"
             ],
             [
              0.5555555555555556,
              "#d8576b"
             ],
             [
              0.6666666666666666,
              "#ed7953"
             ],
             [
              0.7777777777777778,
              "#fb9f3a"
             ],
             [
              0.8888888888888888,
              "#fdca26"
             ],
             [
              1,
              "#f0f921"
             ]
            ],
            "type": "heatmap"
           }
          ],
          "histogram": [
           {
            "marker": {
             "pattern": {
              "fillmode": "overlay",
              "size": 10,
              "solidity": 0.2
             }
            },
            "type": "histogram"
           }
          ],
          "histogram2d": [
           {
            "colorbar": {
             "outlinewidth": 0,
             "ticks": ""
            },
            "colorscale": [
             [
              0,
              "#0d0887"
             ],
             [
              0.1111111111111111,
              "#46039f"
             ],
             [
              0.2222222222222222,
              "#7201a8"
             ],
             [
              0.3333333333333333,
              "#9c179e"
             ],
             [
              0.4444444444444444,
              "#bd3786"
             ],
             [
              0.5555555555555556,
              "#d8576b"
             ],
             [
              0.6666666666666666,
              "#ed7953"
             ],
             [
              0.7777777777777778,
              "#fb9f3a"
             ],
             [
              0.8888888888888888,
              "#fdca26"
             ],
             [
              1,
              "#f0f921"
             ]
            ],
            "type": "histogram2d"
           }
          ],
          "histogram2dcontour": [
           {
            "colorbar": {
             "outlinewidth": 0,
             "ticks": ""
            },
            "colorscale": [
             [
              0,
              "#0d0887"
             ],
             [
              0.1111111111111111,
              "#46039f"
             ],
             [
              0.2222222222222222,
              "#7201a8"
             ],
             [
              0.3333333333333333,
              "#9c179e"
             ],
             [
              0.4444444444444444,
              "#bd3786"
             ],
             [
              0.5555555555555556,
              "#d8576b"
             ],
             [
              0.6666666666666666,
              "#ed7953"
             ],
             [
              0.7777777777777778,
              "#fb9f3a"
             ],
             [
              0.8888888888888888,
              "#fdca26"
             ],
             [
              1,
              "#f0f921"
             ]
            ],
            "type": "histogram2dcontour"
           }
          ],
          "mesh3d": [
           {
            "colorbar": {
             "outlinewidth": 0,
             "ticks": ""
            },
            "type": "mesh3d"
           }
          ],
          "parcoords": [
           {
            "line": {
             "colorbar": {
              "outlinewidth": 0,
              "ticks": ""
             }
            },
            "type": "parcoords"
           }
          ],
          "pie": [
           {
            "automargin": true,
            "type": "pie"
           }
          ],
          "scatter": [
           {
            "marker": {
             "line": {
              "color": "#283442"
             }
            },
            "type": "scatter"
           }
          ],
          "scatter3d": [
           {
            "line": {
             "colorbar": {
              "outlinewidth": 0,
              "ticks": ""
             }
            },
            "marker": {
             "colorbar": {
              "outlinewidth": 0,
              "ticks": ""
             }
            },
            "type": "scatter3d"
           }
          ],
          "scattercarpet": [
           {
            "marker": {
             "colorbar": {
              "outlinewidth": 0,
              "ticks": ""
             }
            },
            "type": "scattercarpet"
           }
          ],
          "scattergeo": [
           {
            "marker": {
             "colorbar": {
              "outlinewidth": 0,
              "ticks": ""
             }
            },
            "type": "scattergeo"
           }
          ],
          "scattergl": [
           {
            "marker": {
             "line": {
              "color": "#283442"
             }
            },
            "type": "scattergl"
           }
          ],
          "scattermap": [
           {
            "marker": {
             "colorbar": {
              "outlinewidth": 0,
              "ticks": ""
             }
            },
            "type": "scattermap"
           }
          ],
          "scattermapbox": [
           {
            "marker": {
             "colorbar": {
              "outlinewidth": 0,
              "ticks": ""
             }
            },
            "type": "scattermapbox"
           }
          ],
          "scatterpolar": [
           {
            "marker": {
             "colorbar": {
              "outlinewidth": 0,
              "ticks": ""
             }
            },
            "type": "scatterpolar"
           }
          ],
          "scatterpolargl": [
           {
            "marker": {
             "colorbar": {
              "outlinewidth": 0,
              "ticks": ""
             }
            },
            "type": "scatterpolargl"
           }
          ],
          "scatterternary": [
           {
            "marker": {
             "colorbar": {
              "outlinewidth": 0,
              "ticks": ""
             }
            },
            "type": "scatterternary"
           }
          ],
          "surface": [
           {
            "colorbar": {
             "outlinewidth": 0,
             "ticks": ""
            },
            "colorscale": [
             [
              0,
              "#0d0887"
             ],
             [
              0.1111111111111111,
              "#46039f"
             ],
             [
              0.2222222222222222,
              "#7201a8"
             ],
             [
              0.3333333333333333,
              "#9c179e"
             ],
             [
              0.4444444444444444,
              "#bd3786"
             ],
             [
              0.5555555555555556,
              "#d8576b"
             ],
             [
              0.6666666666666666,
              "#ed7953"
             ],
             [
              0.7777777777777778,
              "#fb9f3a"
             ],
             [
              0.8888888888888888,
              "#fdca26"
             ],
             [
              1,
              "#f0f921"
             ]
            ],
            "type": "surface"
           }
          ],
          "table": [
           {
            "cells": {
             "fill": {
              "color": "#506784"
             },
             "line": {
              "color": "rgb(17,17,17)"
             }
            },
            "header": {
             "fill": {
              "color": "#2a3f5f"
             },
             "line": {
              "color": "rgb(17,17,17)"
             }
            },
            "type": "table"
           }
          ]
         },
         "layout": {
          "annotationdefaults": {
           "arrowcolor": "#f2f5fa",
           "arrowhead": 0,
           "arrowwidth": 1
          },
          "autotypenumbers": "strict",
          "coloraxis": {
           "colorbar": {
            "outlinewidth": 0,
            "ticks": ""
           }
          },
          "colorscale": {
           "diverging": [
            [
             0,
             "#8e0152"
            ],
            [
             0.1,
             "#c51b7d"
            ],
            [
             0.2,
             "#de77ae"
            ],
            [
             0.3,
             "#f1b6da"
            ],
            [
             0.4,
             "#fde0ef"
            ],
            [
             0.5,
             "#f7f7f7"
            ],
            [
             0.6,
             "#e6f5d0"
            ],
            [
             0.7,
             "#b8e186"
            ],
            [
             0.8,
             "#7fbc41"
            ],
            [
             0.9,
             "#4d9221"
            ],
            [
             1,
             "#276419"
            ]
           ],
           "sequential": [
            [
             0,
             "#0d0887"
            ],
            [
             0.1111111111111111,
             "#46039f"
            ],
            [
             0.2222222222222222,
             "#7201a8"
            ],
            [
             0.3333333333333333,
             "#9c179e"
            ],
            [
             0.4444444444444444,
             "#bd3786"
            ],
            [
             0.5555555555555556,
             "#d8576b"
            ],
            [
             0.6666666666666666,
             "#ed7953"
            ],
            [
             0.7777777777777778,
             "#fb9f3a"
            ],
            [
             0.8888888888888888,
             "#fdca26"
            ],
            [
             1,
             "#f0f921"
            ]
           ],
           "sequentialminus": [
            [
             0,
             "#0d0887"
            ],
            [
             0.1111111111111111,
             "#46039f"
            ],
            [
             0.2222222222222222,
             "#7201a8"
            ],
            [
             0.3333333333333333,
             "#9c179e"
            ],
            [
             0.4444444444444444,
             "#bd3786"
            ],
            [
             0.5555555555555556,
             "#d8576b"
            ],
            [
             0.6666666666666666,
             "#ed7953"
            ],
            [
             0.7777777777777778,
             "#fb9f3a"
            ],
            [
             0.8888888888888888,
             "#fdca26"
            ],
            [
             1,
             "#f0f921"
            ]
           ]
          },
          "colorway": [
           "#636efa",
           "#EF553B",
           "#00cc96",
           "#ab63fa",
           "#FFA15A",
           "#19d3f3",
           "#FF6692",
           "#B6E880",
           "#FF97FF",
           "#FECB52"
          ],
          "font": {
           "color": "#f2f5fa"
          },
          "geo": {
           "bgcolor": "rgb(17,17,17)",
           "lakecolor": "rgb(17,17,17)",
           "landcolor": "rgb(17,17,17)",
           "showlakes": true,
           "showland": true,
           "subunitcolor": "#506784"
          },
          "hoverlabel": {
           "align": "left"
          },
          "hovermode": "closest",
          "mapbox": {
           "style": "dark"
          },
          "paper_bgcolor": "rgb(17,17,17)",
          "plot_bgcolor": "rgb(17,17,17)",
          "polar": {
           "angularaxis": {
            "gridcolor": "#506784",
            "linecolor": "#506784",
            "ticks": ""
           },
           "bgcolor": "rgb(17,17,17)",
           "radialaxis": {
            "gridcolor": "#506784",
            "linecolor": "#506784",
            "ticks": ""
           }
          },
          "scene": {
           "xaxis": {
            "backgroundcolor": "rgb(17,17,17)",
            "gridcolor": "#506784",
            "gridwidth": 2,
            "linecolor": "#506784",
            "showbackground": true,
            "ticks": "",
            "zerolinecolor": "#C8D4E3"
           },
           "yaxis": {
            "backgroundcolor": "rgb(17,17,17)",
            "gridcolor": "#506784",
            "gridwidth": 2,
            "linecolor": "#506784",
            "showbackground": true,
            "ticks": "",
            "zerolinecolor": "#C8D4E3"
           },
           "zaxis": {
            "backgroundcolor": "rgb(17,17,17)",
            "gridcolor": "#506784",
            "gridwidth": 2,
            "linecolor": "#506784",
            "showbackground": true,
            "ticks": "",
            "zerolinecolor": "#C8D4E3"
           }
          },
          "shapedefaults": {
           "line": {
            "color": "#f2f5fa"
           }
          },
          "sliderdefaults": {
           "bgcolor": "#C8D4E3",
           "bordercolor": "rgb(17,17,17)",
           "borderwidth": 1,
           "tickwidth": 0
          },
          "ternary": {
           "aaxis": {
            "gridcolor": "#506784",
            "linecolor": "#506784",
            "ticks": ""
           },
           "baxis": {
            "gridcolor": "#506784",
            "linecolor": "#506784",
            "ticks": ""
           },
           "bgcolor": "rgb(17,17,17)",
           "caxis": {
            "gridcolor": "#506784",
            "linecolor": "#506784",
            "ticks": ""
           }
          },
          "title": {
           "x": 0.05
          },
          "updatemenudefaults": {
           "bgcolor": "#506784",
           "borderwidth": 0
          },
          "xaxis": {
           "automargin": true,
           "gridcolor": "#283442",
           "linecolor": "#506784",
           "ticks": "",
           "title": {
            "standoff": 15
           },
           "zerolinecolor": "#283442",
           "zerolinewidth": 2
          },
          "yaxis": {
           "automargin": true,
           "gridcolor": "#283442",
           "linecolor": "#506784",
           "ticks": "",
           "title": {
            "standoff": 15
           },
           "zerolinecolor": "#283442",
           "zerolinewidth": 2
          }
         }
        },
        "title": {
         "font": {
          "size": 16
         },
         "text": "<span style='color:royalblue'>Movie (1331, 84%)</span>, <span style='color:gold'>TV (247, 16%)</span>",
         "x": 0.5,
         "xanchor": "center",
         "y": 0.99,
         "yanchor": "top"
        },
        "uniformtext": {
         "minsize": 8,
         "mode": "show"
        }
       }
      }
     },
     "metadata": {},
     "output_type": "display_data"
    }
   ],
   "source": [
    "flags = df_flag_genre['flag'].unique()\n",
    "cmap = matplotlib.colormaps['rainbow']\n",
    "flag_colors = {flag: mcolors.to_hex(cmap(i / (len(flags)-1))) for i, flag in enumerate(flags)}\n",
    "\n",
    "# Step 4: manually assign colors per flag\n",
    "flag_colors = {\n",
    "    'Movie': 'royalblue',\n",
    "    'TV': 'gold',\n",
    "    'Other': 'white',\n",
    "}\n",
    "\n",
    "import textwrap\n",
    "\n",
    "# Define min/max line length\n",
    "min_line_length = 10\n",
    "max_line_length = 30\n",
    "\n",
    "# Normalize count to 0-1\n",
    "count_min = df_flag_genre['count'].min()\n",
    "count_max = df_flag_genre['count'].max()\n",
    "df_flag_genre['norm_count'] = (df_flag_genre['count'] - count_min) / (count_max - count_min)\n",
    "\n",
    "# Compute dynamic line length\n",
    "df_flag_genre['line_length'] = df_flag_genre['norm_count'] * (max_line_length - min_line_length) + min_line_length\n",
    "df_flag_genre['line_length'] = df_flag_genre['line_length'].astype(int)\n",
    "\n",
    "def wrap_genre(row):\n",
    "    genre = row['genre']\n",
    "    line_length = row['line_length']\n",
    "    \n",
    "    # If the whole genre fits, return as is\n",
    "    if len(genre) <= line_length:\n",
    "        return genre\n",
    "    \n",
    "    # Split into words\n",
    "    words = genre.split(' ')\n",
    "    lines = []\n",
    "    current_line = ''\n",
    "    \n",
    "    for word in words:\n",
    "        # If adding this word exceeds line_length\n",
    "        if len(current_line) + len(word) + (1 if current_line else 0) > line_length:\n",
    "            # Push current line to lines\n",
    "            if current_line:\n",
    "                lines.append(current_line)\n",
    "            current_line = word\n",
    "        else:\n",
    "            # Append word to current line\n",
    "            current_line = f\"{current_line} {word}\" if current_line else word\n",
    "    \n",
    "    # Add last line\n",
    "    if current_line:\n",
    "        lines.append(current_line)\n",
    "    \n",
    "    return '<br>'.join(lines)\n",
    "\n",
    "df_flag_genre['genre_wrapped'] = df_flag_genre.apply(wrap_genre, axis=1)\n",
    "df_flag_genre['id'] = df_flag_genre['flag'] + ' | ' + df_flag_genre['genre_wrapped']  # unique per flag+genre\n",
    "df_flag_genre['parent'] = \"\"  # flat hierarchy\n",
    "df_flag_genre['label'] = df_flag_genre['genre_wrapped']  # show only genre text\n",
    "\n",
    "# Step 6: create treemap\n",
    "fig = go.Figure(go.Treemap(\n",
    "    ids=df_flag_genre['id'],\n",
    "    labels=df_flag_genre['label'],\n",
    "    parents=df_flag_genre['parent'],\n",
    "    values=df_flag_genre['count'],\n",
    "    marker=dict(\n",
    "        colors=[flag_colors.get(f, 'gray') for f in df_flag_genre['flag']],\n",
    "        line=dict(color='black', width=1)\n",
    "    ),\n",
    "    textinfo=\"label+value+percent parent\",\n",
    "    texttemplate=\"%{label}<br>(%{value:.0f}, %{percentParent:.0%})\",\n",
    "    textposition=\"middle center\",\n",
    "    hoverinfo='none',  # <-- disables hover\n",
    "    branchvalues='total'\n",
    "))\n",
    "\n",
    "fig.update_layout(\n",
    "    margin=dict(l=1, r=1, t=1, b=1),\n",
    "    template='plotly_dark',\n",
    "    height=500,\n",
    "    uniformtext=dict(minsize=8, mode='show')\n",
    ")\n",
    "\n",
    "# Step 7: compute total counts per flag, sort descending for title\n",
    "flag_counts = (df_flag_genre.groupby('flag', as_index=False)['count'].sum().sort_values('count', ascending=False))\n",
    "total_count = flag_counts['count'].sum()\n",
    "flag_summaries = []\n",
    "for _, row in flag_counts.iterrows():\n",
    "    flag = row['flag']\n",
    "    flag_count = row['count']\n",
    "    flag_frac = flag_count / total_count\n",
    "    color = flag_colors.get(flag, 'gray')\n",
    "    flag_summaries.append(f\"<span style='color:{color}'>{flag} ({int(flag_count)}, {flag_frac:.0%})</span>\")\n",
    "\n",
    "title_text = \", \".join(flag_summaries)\n",
    "\n",
    "fig.update_layout(\n",
    "    margin=dict(l=1, r=1, t=20, b=1),  # top margin increased for title\n",
    "    template='plotly_dark',\n",
    "    font=dict(color='white', size=11),\n",
    "    height=560,\n",
    "    uniformtext=dict(minsize=8, mode='show'),\n",
    "    title=dict(\n",
    "        text=title_text,\n",
    "        x=0.5,\n",
    "        xanchor='center',\n",
    "        yanchor='top',\n",
    "        y=0.99,  # stick to the very top inside the margin\n",
    "        font=dict(size=16)\n",
    "    )\n",
    ")\n",
    "\n",
    "fig.show()\n",
    "\n",
    "import plotly.io as pio\n",
    "config = {'displayModeBar': False, 'responsive': True}\n",
    "pio.write_html(fig, file='../attachments/tree_movies.html', config=config, include_plotlyjs='cdn')"
   ]
  },
  {
   "cell_type": "code",
   "execution_count": null,
   "id": "e4374f4a",
   "metadata": {},
   "outputs": [],
   "source": [
    "# # Normalize the genre strings\n",
    "# df['genres'] = (df['genres'].str.lower().str.replace('-', '').str.replace(' ', '').str.replace('_', '').str.strip())\n",
    "# # Then split and create dummy variables\n",
    "# genres_dummies = df['genres'].str.get_dummies(sep=',')\n",
    "# # Rename columns to have 'genre_' prefix\n",
    "# genres_dummies.columns = ['genre_' + col for col in genres_dummies.columns]\n",
    "# # Normalize row-wise\n",
    "# genres_normalized = genres_dummies.div(genres_dummies.sum(axis=1), axis=0)\n",
    "# # Merge into original df\n",
    "# df = df.join(genres_normalized).drop(columns=['genres'])\n",
    "\n",
    "# def merge_genre_columns(df, col1, col2, new_col):\n",
    "#     df[new_col] = df[col1].fillna(0) + df[col2].fillna(0)\n",
    "#     df = df.drop(columns=[col1, col2])\n",
    "#     return df\n",
    "\n",
    "# df = merge_genre_columns(df, col1='genre_action', col2='genre_adventure', new_col='genre_action/adventure')\n",
    "# df = merge_genre_columns(df, col1='genre_scifi', col2='genre_fantasy', new_col='genre_scifi/fantasy')\n",
    "# df = merge_genre_columns(df, col1='genre_mystery', col2='genre_thriller', new_col='genre_mystery/thriller')\n",
    "# df = merge_genre_columns(df, col1='genre_history', col2='genre_biography', new_col='genre_history/biography')\n",
    "# df = merge_genre_columns(df, col1='genre_war', col2='genre_western', new_col='genre_war/western')\n",
    "# df = merge_genre_columns(df, col1='genre_music', col2='genre_musical', new_col='genre_music/musical')\n",
    "# df = merge_genre_columns(df, col1='genre_realitytv', col2='genre_talkshow', new_col='genre_reality/talkshow')"
   ]
  },
  {
   "cell_type": "code",
   "execution_count": 2,
   "id": "5c9e992e",
   "metadata": {},
   "outputs": [
    {
     "name": "stderr",
     "output_type": "stream",
     "text": [
      "/var/folders/db/d12qt0f54z5_frtr62wjlkyc0000gn/T/ipykernel_32740/348602453.py:79: MatplotlibDeprecationWarning: The get_cmap function was deprecated in Matplotlib 3.7 and will be removed in 3.11. Use ``matplotlib.colormaps[name]`` or ``matplotlib.colormaps.get_cmap()`` or ``pyplot.get_cmap()`` instead.\n",
      "  spectral = cm.get_cmap('rainbow')\n",
      "/var/folders/db/d12qt0f54z5_frtr62wjlkyc0000gn/T/ipykernel_32740/348602453.py:113: RuntimeWarning: divide by zero encountered in scalar divide\n",
      "  vertical_height = area/(max_r - min_r)\n"
     ]
    },
    {
     "data": {
      "application/vnd.plotly.v1+json": {
       "config": {
        "displayModeBar": true,
        "doubleClick": false,
        "plotlyServerURL": "https://plot.ly",
        "scrollZoom": false
       },
       "data": [
        {
         "fill": "toself",
         "fillcolor": "#8000ff",
         "hoverinfo": "text",
         "hovertemplate": "Genre: action/adventure<br>Raw count: 974<br>Weighted count: 396<br>Avg rating: 7.2/10<br>Range: 3 - 10<br><br>Top 15:<br>1991: Terminator 2: Judgment Day (9/10)<br>2000: Gladiator (9/10)<br>2002: The Lord of the Rings: The Two Towers<br>(9/10)<br>2003: Big Fish (9/10)<br>2005: Star Wars: Episode III - Revenge of the<br>Sith (9/10)<br>2005: V for Vendetta (9/10)<br>2008: The Dark Knight (10/10)<br>2010: Inception (10/10)<br>2013: Rick and Morty (9/10)<br>2014: Interstellar (10/10)<br>2015: Star Wars: Episode VII - The Force<br>Awakens (9/10)<br>2017: A Taxi Driver (9/10)<br>2017: Logan (9/10)<br>2019: Avengers: Endgame (10/10)<br>2021: What If...? (9/10)<br>...and more<extra></extra>",
         "line": {
          "color": "#8000ff"
         },
         "mode": "lines",
         "showlegend": false,
         "text": "Genre: action/adventure<br>Raw count: 974<br>Weighted count: 396<br>Avg rating: 7.2/10<br>Range: 3 - 10<br><br>Top 15:<br>1991: Terminator 2: Judgment Day (9/10)<br>2000: Gladiator (9/10)<br>2002: The Lord of the Rings: The Two Towers<br>(9/10)<br>2003: Big Fish (9/10)<br>2005: Star Wars: Episode III - Revenge of the<br>Sith (9/10)<br>2005: V for Vendetta (9/10)<br>2008: The Dark Knight (10/10)<br>2010: Inception (10/10)<br>2013: Rick and Morty (9/10)<br>2014: Interstellar (10/10)<br>2015: Star Wars: Episode VII - The Force<br>Awakens (9/10)<br>2017: A Taxi Driver (9/10)<br>2017: Logan (9/10)<br>2019: Avengers: Endgame (10/10)<br>2021: What If...? (9/10)<br>...and more",
         "type": "scatter",
         "x": [
          7.216632443531828,
          10,
          7.216632443531828,
          3,
          7.216632443531828
         ],
         "y": [
          0.8987078970424686,
          0,
          -0.8987078970424686,
          0,
          0.8987078970424686
         ]
        },
        {
         "fill": "toself",
         "fillcolor": "#642cfe",
         "hoverinfo": "text",
         "hovertemplate": "Genre: drama<br>Raw count: 776<br>Weighted count: 246<br>Avg rating: 7.5/10<br>Range: 5 - 10<br><br>Top 15:<br>1994: The Shawshank Redemption (9/10)<br>1997: Titanic (9/10)<br>2000: Memento (9/10)<br>2002: The Lord of the Rings: The Two Towers<br>(9/10)<br>2003: Big Fish (9/10)<br>2008: The Dark Knight (10/10)<br>2014: Interstellar (10/10)<br>2014: The Theory of Everything (9/10)<br>2015: The Man in the High Castle (9/10)<br>2016: Arrival (10/10)<br>2016: Hacksaw Ridge (9/10)<br>2016: Travelers (9/10)<br>2016: Westworld (9/10)<br>2017: A Taxi Driver (9/10)<br>2017: Logan (9/10)<br>...and more<extra></extra>",
         "line": {
          "color": "#642cfe"
         },
         "mode": "lines",
         "showlegend": false,
         "text": "Genre: drama<br>Raw count: 776<br>Weighted count: 246<br>Avg rating: 7.5/10<br>Range: 5 - 10<br><br>Top 15:<br>1994: The Shawshank Redemption (9/10)<br>1997: Titanic (9/10)<br>2000: Memento (9/10)<br>2002: The Lord of the Rings: The Two Towers<br>(9/10)<br>2003: Big Fish (9/10)<br>2008: The Dark Knight (10/10)<br>2014: Interstellar (10/10)<br>2014: The Theory of Everything (9/10)<br>2015: The Man in the High Castle (9/10)<br>2016: Arrival (10/10)<br>2016: Hacksaw Ridge (9/10)<br>2016: Travelers (9/10)<br>2016: Westworld (9/10)<br>2017: A Taxi Driver (9/10)<br>2017: Logan (9/10)<br>...and more",
         "type": "scatter",
         "x": [
          7.463917525773196,
          10,
          7.463917525773196,
          5,
          7.463917525773196
         ],
         "y": [
          1.9929482242524914,
          1,
          0.007051775747508593,
          1,
          1.9929482242524914
         ]
        },
        {
         "fill": "toself",
         "fillcolor": "#4856fb",
         "hoverinfo": "text",
         "hovertemplate": "Genre: mystery/thriller<br>Raw count: 718<br>Weighted count: 241<br>Avg rating: 7.3/10<br>Range: 5 - 10<br><br>Top 15:<br>2000: Memento (9/10)<br>2001: A Beautiful Mind (9/10)<br>2006: The Lives of Others (9/10)<br>2008: Breaking Bad (9/10)<br>2008: The Dark Knight (10/10)<br>2010: Inception (10/10)<br>2013: Coherence (9/10)<br>2015: Narcos (9/10)<br>2015: The Man in the High Castle (9/10)<br>2016: Arrival (10/10)<br>2016: Travelers (9/10)<br>2016: Westworld (9/10)<br>2017: Dark (9/10)<br>2017: Logan (9/10)<br>2020: Tenet (9/10)<br>...and more<extra></extra>",
         "line": {
          "color": "#4856fb"
         },
         "mode": "lines",
         "showlegend": false,
         "text": "Genre: mystery/thriller<br>Raw count: 718<br>Weighted count: 241<br>Avg rating: 7.3/10<br>Range: 5 - 10<br><br>Top 15:<br>2000: Memento (9/10)<br>2001: A Beautiful Mind (9/10)<br>2006: The Lives of Others (9/10)<br>2008: Breaking Bad (9/10)<br>2008: The Dark Knight (10/10)<br>2010: Inception (10/10)<br>2013: Coherence (9/10)<br>2015: Narcos (9/10)<br>2015: The Man in the High Castle (9/10)<br>2016: Arrival (10/10)<br>2016: Travelers (9/10)<br>2016: Westworld (9/10)<br>2017: Dark (9/10)<br>2017: Logan (9/10)<br>2020: Tenet (9/10)<br>...and more",
         "type": "scatter",
         "x": [
          7.2674094707520895,
          10,
          7.2674094707520895,
          5,
          7.2674094707520895
         ],
         "y": [
          2.981802021405135,
          2,
          1.018197978594865,
          2,
          2.981802021405135
         ]
        },
        {
         "fill": "toself",
         "fillcolor": "#2c7ef7",
         "hoverinfo": "text",
         "hovertemplate": "Genre: scifi/fantasy<br>Raw count: 679<br>Weighted count: 211<br>Avg rating: 7.3/10<br>Range: 3 - 10<br><br>Top 15:<br>1999: The Matrix (9/10)<br>2003: Big Fish (9/10)<br>2005: Star Wars: Episode III - Revenge of the<br>Sith (9/10)<br>2010: Inception (10/10)<br>2013: Coherence (9/10)<br>2013: Rick and Morty (9/10)<br>2014: Interstellar (10/10)<br>2015: Star Wars: Episode VII - The Force<br>Awakens (9/10)<br>2015: The Man in the High Castle (9/10)<br>2016: Arrival (10/10)<br>2016: Travelers (9/10)<br>2017: Logan (9/10)<br>2019: Avengers: Endgame (10/10)<br>2020: Tenet (9/10)<br>2021: What If...? (9/10)<br>...and more<extra></extra>",
         "line": {
          "color": "#2c7ef7"
         },
         "mode": "lines",
         "showlegend": false,
         "text": "Genre: scifi/fantasy<br>Raw count: 679<br>Weighted count: 211<br>Avg rating: 7.3/10<br>Range: 3 - 10<br><br>Top 15:<br>1999: The Matrix (9/10)<br>2003: Big Fish (9/10)<br>2005: Star Wars: Episode III - Revenge of the<br>Sith (9/10)<br>2010: Inception (10/10)<br>2013: Coherence (9/10)<br>2013: Rick and Morty (9/10)<br>2014: Interstellar (10/10)<br>2015: Star Wars: Episode VII - The Force<br>Awakens (9/10)<br>2015: The Man in the High Castle (9/10)<br>2016: Arrival (10/10)<br>2016: Travelers (9/10)<br>2017: Logan (9/10)<br>2019: Avengers: Endgame (10/10)<br>2020: Tenet (9/10)<br>2021: What If...? (9/10)<br>...and more",
         "type": "scatter",
         "x": [
          7.347569955817378,
          10,
          7.347569955817378,
          3,
          7.347569955817378
         ],
         "y": [
          3.656012523520471,
          3,
          2.343987476479529,
          3,
          3.656012523520471
         ]
        },
        {
         "fill": "toself",
         "fillcolor": "#10a2f0",
         "hoverinfo": "text",
         "hovertemplate": "Genre: comedy<br>Raw count: 328<br>Weighted count: 107<br>Avg rating: 7.1/10<br>Range: 5 - 9<br><br>Top 15:<br>1989: Dead Poets Society (9/10)<br>1993: Groundhog Day (9/10)<br>1998: The Truman Show (9/10)<br>2013: Rick and Morty (9/10)<br>2015: Where to Invade Next (9/10)<br>2017: Bonusfamiljen (8/10)<br>2019: Knives Out (8/10)<br>2021: Free Guy (8/10)<br>2021: Resident Alien (8/10)<br>2021: WandaVision (8/10)<br>2022: Babylon (9/10)<br>2022: Everything Everywhere All at Once<br>(8/10)<br>2022: The Boys Presents: Diabolical (8/10)<br>2022: The Menu (8/10)<br>2023: Poor Things (8/10)<br>...and more<extra></extra>",
         "line": {
          "color": "#10a2f0"
         },
         "mode": "lines",
         "showlegend": false,
         "text": "Genre: comedy<br>Raw count: 328<br>Weighted count: 107<br>Avg rating: 7.1/10<br>Range: 5 - 9<br><br>Top 15:<br>1989: Dead Poets Society (9/10)<br>1993: Groundhog Day (9/10)<br>1998: The Truman Show (9/10)<br>2013: Rick and Morty (9/10)<br>2015: Where to Invade Next (9/10)<br>2017: Bonusfamiljen (8/10)<br>2019: Knives Out (8/10)<br>2021: Free Guy (8/10)<br>2021: Resident Alien (8/10)<br>2021: WandaVision (8/10)<br>2022: Babylon (9/10)<br>2022: Everything Everywhere All at Once<br>(8/10)<br>2022: The Boys Presents: Diabolical (8/10)<br>2022: The Menu (8/10)<br>2023: Poor Things (8/10)<br>...and more",
         "type": "scatter",
         "x": [
          7.1310975609756095,
          9,
          7.1310975609756095,
          5,
          7.1310975609756095
         ],
         "y": [
          4.817741170722358,
          4,
          3.182258829277642,
          4,
          4.817741170722358
         ]
        },
        {
         "fill": "toself",
         "fillcolor": "#0fc4e7",
         "hoverinfo": "text",
         "hovertemplate": "Genre: crime<br>Raw count: 339<br>Weighted count: 91<br>Avg rating: 7.2/10<br>Range: 5 - 10<br><br>Top 15:<br>1996: Eraser (8/10)<br>2002: Catch Me If You Can (9/10)<br>2005: Batman Begins (9/10)<br>2008: Breaking Bad (9/10)<br>2008: The Dark Knight (10/10)<br>2011: The Bridge (9/10)<br>2012: The Dark Knight Rises (9/10)<br>2013: Now You See Me (9/10)<br>2015: Narcos (9/10)<br>2017: Dark (9/10)<br>2019: In the Shadow of the Moon (8/10)<br>2019: Joker (9/10)<br>2022: The Batman (8/10)<br>2022: Under the Banner of Heaven (9/10)<br>2023: The Continental (8/10)<br>...and more<extra></extra>",
         "line": {
          "color": "#0fc4e7"
         },
         "mode": "lines",
         "showlegend": false,
         "text": "Genre: crime<br>Raw count: 339<br>Weighted count: 91<br>Avg rating: 7.2/10<br>Range: 5 - 10<br><br>Top 15:<br>1996: Eraser (8/10)<br>2002: Catch Me If You Can (9/10)<br>2005: Batman Begins (9/10)<br>2008: Breaking Bad (9/10)<br>2008: The Dark Knight (10/10)<br>2011: The Bridge (9/10)<br>2012: The Dark Knight Rises (9/10)<br>2013: Now You See Me (9/10)<br>2015: Narcos (9/10)<br>2017: Dark (9/10)<br>2019: In the Shadow of the Moon (8/10)<br>2019: Joker (9/10)<br>2022: The Batman (8/10)<br>2022: Under the Banner of Heaven (9/10)<br>2023: The Continental (8/10)<br>...and more",
         "type": "scatter",
         "x": [
          7.176991150442478,
          10,
          7.176991150442478,
          5,
          7.176991150442478
         ],
         "y": [
          5.604799586377619,
          5,
          4.395200413622381,
          5,
          5.604799586377619
         ]
        },
        {
         "fill": "toself",
         "fillcolor": "#2adddd",
         "hoverinfo": "text",
         "hovertemplate": "Genre: history/biography<br>Raw count: 183<br>Weighted count: 69<br>Avg rating: 7.5/10<br>Range: 5 - 9<br><br>Top 15:<br>1998: The Thin Red Line (9/10)<br>2001: A Beautiful Mind (9/10)<br>2002: Catch Me If You Can (9/10)<br>2002: K-19: The Widowmaker (9/10)<br>2014: The Theory of Everything (9/10)<br>2015: Narcos (9/10)<br>2016: Hacksaw Ridge (9/10)<br>2016: Race (8/10)<br>2017: A Taxi Driver (9/10)<br>2017: Molly's Game (8/10)<br>2019: Chernobyl (9/10)<br>2019: The Best of Enemies (8/10)<br>2020: Hillbilly Elegy (8/10)<br>2022: All Quiet on the Western Front (9/10)<br>2024: Shōgun (8/10)<br>...and more<extra></extra>",
         "line": {
          "color": "#2adddd"
         },
         "mode": "lines",
         "showlegend": false,
         "text": "Genre: history/biography<br>Raw count: 183<br>Weighted count: 69<br>Avg rating: 7.5/10<br>Range: 5 - 9<br><br>Top 15:<br>1998: The Thin Red Line (9/10)<br>2001: A Beautiful Mind (9/10)<br>2002: Catch Me If You Can (9/10)<br>2002: K-19: The Widowmaker (9/10)<br>2014: The Theory of Everything (9/10)<br>2015: Narcos (9/10)<br>2016: Hacksaw Ridge (9/10)<br>2016: Race (8/10)<br>2017: A Taxi Driver (9/10)<br>2017: Molly's Game (8/10)<br>2019: Chernobyl (9/10)<br>2019: The Best of Enemies (8/10)<br>2020: Hillbilly Elegy (8/10)<br>2022: All Quiet on the Western Front (9/10)<br>2024: Shōgun (8/10)<br>...and more",
         "type": "scatter",
         "x": [
          7.46448087431694,
          9,
          7.46448087431694,
          5,
          7.46448087431694
         ],
         "y": [
          6.6585292053399865,
          6,
          5.3414707946600135,
          6,
          6.6585292053399865
         ]
        },
        {
         "fill": "toself",
         "fillcolor": "#46efd1",
         "hoverinfo": "text",
         "hovertemplate": "Genre: documentary<br>Raw count: 61<br>Weighted count: 47<br>Avg rating: 7.6/10<br>Range: 6 - 10<br><br>Top 15:<br>2006: Nova: Monster of the Milky Way (8/10)<br>2008: Adventures in Architecture (9/10)<br>2009: Home (10/10)<br>2010: Aerial America (8/10)<br>2010: Hubble (9/10)<br>2011: Nova: The Fabric of the Cosmos: Quantum<br>Leap (9/10)<br>2011: Nova: The Fabric of the Cosmos: The<br>Illusion of Time (9/10)<br>2011: Nova: The Fabric of the Cosmos:<br>Universe or Multiverse? (9/10)<br>2011: Nova: The Fabric of the Cosmos: What is<br>Space? (9/10)<br>2011: Samsara (8/10)<br>2014: Scandimania (9/10)<br>2014: The Science of Interstellar (8/10)<br>2015: Under the Dome (8/10)<br>2015: Where to Invade Next (9/10)<br>2020: Alien Worlds (8/10)<br>...and more<extra></extra>",
         "line": {
          "color": "#46efd1"
         },
         "mode": "lines",
         "showlegend": false,
         "text": "Genre: documentary<br>Raw count: 61<br>Weighted count: 47<br>Avg rating: 7.6/10<br>Range: 6 - 10<br><br>Top 15:<br>2006: Nova: Monster of the Milky Way (8/10)<br>2008: Adventures in Architecture (9/10)<br>2009: Home (10/10)<br>2010: Aerial America (8/10)<br>2010: Hubble (9/10)<br>2011: Nova: The Fabric of the Cosmos: Quantum<br>Leap (9/10)<br>2011: Nova: The Fabric of the Cosmos: The<br>Illusion of Time (9/10)<br>2011: Nova: The Fabric of the Cosmos:<br>Universe or Multiverse? (9/10)<br>2011: Nova: The Fabric of the Cosmos: What is<br>Space? (9/10)<br>2011: Samsara (8/10)<br>2014: Scandimania (9/10)<br>2014: The Science of Interstellar (8/10)<br>2015: Under the Dome (8/10)<br>2015: Where to Invade Next (9/10)<br>2020: Alien Worlds (8/10)<br>...and more",
         "type": "scatter",
         "x": [
          7.639344262295082,
          10,
          7.639344262295082,
          6,
          7.639344262295082
         ],
         "y": [
          7.543289692959649,
          7,
          6.456710307040351,
          7,
          7.543289692959649
         ]
        },
        {
         "fill": "toself",
         "fillcolor": "#62fbc4",
         "hoverinfo": "text",
         "hovertemplate": "Genre: romance<br>Raw count: 140<br>Weighted count: 45<br>Avg rating: 7.4/10<br>Range: 5 - 9<br><br>Top 15:<br>1985: Out of Africa (8/10)<br>1990: Edward Scissorhands (8/10)<br>1992: Memoirs of an Invisible Man (8/10)<br>1993: Groundhog Day (9/10)<br>1994: Forrest Gump (9/10)<br>1997: Good Will Hunting (9/10)<br>1997: Titanic (9/10)<br>2003: Big Fish (9/10)<br>2005: King Kong (8/10)<br>2009: Mr. Nobody (8/10)<br>2012: To the Wonder (8/10)<br>2013: Her (8/10)<br>2014: The Theory of Everything (9/10)<br>2021: Free Guy (8/10)<br>2023: Poor Things (8/10)<br>...and more<extra></extra>",
         "line": {
          "color": "#62fbc4"
         },
         "mode": "lines",
         "showlegend": false,
         "text": "Genre: romance<br>Raw count: 140<br>Weighted count: 45<br>Avg rating: 7.4/10<br>Range: 5 - 9<br><br>Top 15:<br>1985: Out of Africa (8/10)<br>1990: Edward Scissorhands (8/10)<br>1992: Memoirs of an Invisible Man (8/10)<br>1993: Groundhog Day (9/10)<br>1994: Forrest Gump (9/10)<br>1997: Good Will Hunting (9/10)<br>1997: Titanic (9/10)<br>2003: Big Fish (9/10)<br>2005: King Kong (8/10)<br>2009: Mr. Nobody (8/10)<br>2012: To the Wonder (8/10)<br>2013: Her (8/10)<br>2014: The Theory of Everything (9/10)<br>2021: Free Guy (8/10)<br>2023: Poor Things (8/10)<br>...and more",
         "type": "scatter",
         "x": [
          7.364285714285714,
          9,
          7.364285714285714,
          5,
          7.364285714285714
         ],
         "y": [
          8.527808060952417,
          8,
          7.472191939047584,
          8,
          8.527808060952417
         ]
        },
        {
         "fill": "toself",
         "fillcolor": "#80ffb4",
         "hoverinfo": "text",
         "hovertemplate": "Genre: war/western<br>Raw count: 136<br>Weighted count: 40<br>Avg rating: 7.4/10<br>Range: 5 - 9<br><br>Top 15:<br>1987: Empire of the Sun (8/10)<br>1998: The Thin Red Line (9/10)<br>2000: U-571 (8/10)<br>2002: K-19: The Widowmaker (9/10)<br>2006: Letters from Iwo Jima (8/10)<br>2008: Defiance (8/10)<br>2008: Valkyrie (8/10)<br>2009: Inglourious Basterds (8/10)<br>2011: War Horse (8/10)<br>2016: Hacksaw Ridge (9/10)<br>2019: Jojo Rabbit (8/10)<br>2022: All Quiet on the Western Front (9/10)<br>2022: Rogue Heroes (8/10)<br>2023: Napoleon (8/10)<br>2024: Shōgun (8/10)<br>...and more<extra></extra>",
         "line": {
          "color": "#80ffb4"
         },
         "mode": "lines",
         "showlegend": false,
         "text": "Genre: war/western<br>Raw count: 136<br>Weighted count: 40<br>Avg rating: 7.4/10<br>Range: 5 - 9<br><br>Top 15:<br>1987: Empire of the Sun (8/10)<br>1998: The Thin Red Line (9/10)<br>2000: U-571 (8/10)<br>2002: K-19: The Widowmaker (9/10)<br>2006: Letters from Iwo Jima (8/10)<br>2008: Defiance (8/10)<br>2008: Valkyrie (8/10)<br>2009: Inglourious Basterds (8/10)<br>2011: War Horse (8/10)<br>2016: Hacksaw Ridge (9/10)<br>2019: Jojo Rabbit (8/10)<br>2022: All Quiet on the Western Front (9/10)<br>2022: Rogue Heroes (8/10)<br>2023: Napoleon (8/10)<br>2024: Shōgun (8/10)<br>...and more",
         "type": "scatter",
         "x": [
          7.375,
          9,
          7.375,
          5,
          7.375
         ],
         "y": [
          9.50173063585193,
          9,
          8.49826936414807,
          9,
          9.50173063585193
         ]
        },
        {
         "fill": "toself",
         "fillcolor": "#9cfba4",
         "hoverinfo": "text",
         "hovertemplate": "Genre: horror<br>Raw count: 83<br>Weighted count: 25<br>Avg rating: 6.8/10<br>Range: 3 - 9<br><br>Top 15:<br>1986: Aliens (8/10)<br>1991: The Silence of the Lambs (8/10)<br>2005: The Skeleton Key (8/10)<br>2007: 28 Weeks Later (8/10)<br>2008: The Mummy: Tomb of the Dragon Emperor<br>(8/10)<br>2013: World War Z (8/10)<br>2018: Annihilation (8/10)<br>2018: The Cloverfield Paradox (8/10)<br>2019: Love, Death & Robots (8/10)<br>2020: A Quiet Place Part II (8/10)<br>2021: Army of the Dead (8/10)<br>2022: Doctor Strange in the Multiverse of<br>Madness (8/10)<br>2022: The Menu (8/10)<br>2023: The Last of Us (9/10)<br>2024: Alien: Romulus (8/10)<br>...and more<extra></extra>",
         "line": {
          "color": "#9cfba4"
         },
         "mode": "lines",
         "showlegend": false,
         "text": "Genre: horror<br>Raw count: 83<br>Weighted count: 25<br>Avg rating: 6.8/10<br>Range: 3 - 9<br><br>Top 15:<br>1986: Aliens (8/10)<br>1991: The Silence of the Lambs (8/10)<br>2005: The Skeleton Key (8/10)<br>2007: 28 Weeks Later (8/10)<br>2008: The Mummy: Tomb of the Dragon Emperor<br>(8/10)<br>2013: World War Z (8/10)<br>2018: Annihilation (8/10)<br>2018: The Cloverfield Paradox (8/10)<br>2019: Love, Death & Robots (8/10)<br>2020: A Quiet Place Part II (8/10)<br>2021: Army of the Dead (8/10)<br>2022: Doctor Strange in the Multiverse of<br>Madness (8/10)<br>2022: The Menu (8/10)<br>2023: The Last of Us (9/10)<br>2024: Alien: Romulus (8/10)<br>...and more",
         "type": "scatter",
         "x": [
          6.819277108433735,
          9,
          6.819277108433735,
          3,
          6.819277108433735
         ],
         "y": [
          10.261895333032426,
          10,
          9.738104666967574,
          10,
          10.261895333032426
         ]
        },
        {
         "fill": "toself",
         "fillcolor": "#b9ef92",
         "hoverinfo": "text",
         "hovertemplate": "Genre: family<br>Raw count: 105<br>Weighted count: 24<br>Avg rating: 7.3/10<br>Range: 6 - 10<br><br>Top 15:<br>1990: Mr. Bean (8/10)<br>2001: Harry Potter and the Sorcerer's Stone<br>(8/10)<br>2002: Harry Potter and the Chamber of Secrets<br>(8/10)<br>2004: Harry Potter and the Prisoner of<br>Azkaban (9/10)<br>2005: Harry Potter and the Goblet of Fire<br>(8/10)<br>2009: Hachi: A Dog's Tale (8/10)<br>2009: Harry Potter and the Half-Blood Prince<br>(8/10)<br>2009: Home (10/10)<br>2010: Harry Potter and the Deathly Hallows:<br>Part 1 (8/10)<br>2011: Harry Potter and the Deathly Hallows:<br>Part 2 (8/10)<br>2011: Hugo (8/10)<br>2011: We Bought a Zoo (8/10)<br>2012: Brave (8/10)<br>2014: Big Hero 6 (8/10)<br>2015: Tomorrowland (8/10)<br>...and more<extra></extra>",
         "line": {
          "color": "#b9ef92"
         },
         "mode": "lines",
         "showlegend": false,
         "text": "Genre: family<br>Raw count: 105<br>Weighted count: 24<br>Avg rating: 7.3/10<br>Range: 6 - 10<br><br>Top 15:<br>1990: Mr. Bean (8/10)<br>2001: Harry Potter and the Sorcerer's Stone<br>(8/10)<br>2002: Harry Potter and the Chamber of Secrets<br>(8/10)<br>2004: Harry Potter and the Prisoner of<br>Azkaban (9/10)<br>2005: Harry Potter and the Goblet of Fire<br>(8/10)<br>2009: Hachi: A Dog's Tale (8/10)<br>2009: Harry Potter and the Half-Blood Prince<br>(8/10)<br>2009: Home (10/10)<br>2010: Harry Potter and the Deathly Hallows:<br>Part 1 (8/10)<br>2011: Harry Potter and the Deathly Hallows:<br>Part 2 (8/10)<br>2011: Hugo (8/10)<br>2011: We Bought a Zoo (8/10)<br>2012: Brave (8/10)<br>2014: Big Hero 6 (8/10)<br>2015: Tomorrowland (8/10)<br>...and more",
         "type": "scatter",
         "x": [
          7.257142857142857,
          10,
          7.257142857142857,
          6,
          7.257142857142857
         ],
         "y": [
          11.388650366194163,
          11,
          10.611349633805837,
          11,
          11.388650366194163
         ]
        },
        {
         "fill": "toself",
         "fillcolor": "#d4dd80",
         "hoverinfo": "text",
         "hovertemplate": "Genre: animation<br>Raw count: 103<br>Weighted count: 19<br>Avg rating: 7.3/10<br>Range: 6 - 9<br><br>Top 15:<br>2008: Star Wars: The Clone Wars (9/10)<br>2009: 9 (8/10)<br>2013: Rick and Morty (9/10)<br>2014: Big Hero 6 (8/10)<br>2014: Star Wars: Rebels (8/10)<br>2019: Love, Death & Robots (8/10)<br>2020: Alien Worlds (8/10)<br>2020: Solar Opposites (8/10)<br>2021: Invincible (8/10)<br>2021: Star Wars: The Bad Batch (8/10)<br>2021: The Mitchells vs. the Machines (8/10)<br>2021: What If...? (9/10)<br>2022: Star Wars: Tales of the Jedi (8/10)<br>2022: The Boys Presents: Diabolical (8/10)<br>2023: Scavengers Reign (9/10)<br>...and more<extra></extra>",
         "line": {
          "color": "#d4dd80"
         },
         "mode": "lines",
         "showlegend": false,
         "text": "Genre: animation<br>Raw count: 103<br>Weighted count: 19<br>Avg rating: 7.3/10<br>Range: 6 - 9<br><br>Top 15:<br>2008: Star Wars: The Clone Wars (9/10)<br>2009: 9 (8/10)<br>2013: Rick and Morty (9/10)<br>2014: Big Hero 6 (8/10)<br>2014: Star Wars: Rebels (8/10)<br>2019: Love, Death & Robots (8/10)<br>2020: Alien Worlds (8/10)<br>2020: Solar Opposites (8/10)<br>2021: Invincible (8/10)<br>2021: Star Wars: The Bad Batch (8/10)<br>2021: The Mitchells vs. the Machines (8/10)<br>2021: What If...? (9/10)<br>2022: Star Wars: Tales of the Jedi (8/10)<br>2022: The Boys Presents: Diabolical (8/10)<br>2023: Scavengers Reign (9/10)<br>...and more",
         "type": "scatter",
         "x": [
          7.29126213592233,
          9,
          7.29126213592233,
          6,
          7.29126213592233
         ],
         "y": [
          12.462476897316554,
          12,
          11.537523102683446,
          12,
          12.462476897316554
         ]
        },
        {
         "fill": "toself",
         "fillcolor": "#f0c46c",
         "hoverinfo": "text",
         "hovertemplate": "Genre: sport<br>Raw count: 20<br>Weighted count: 6<br>Avg rating: 7.5/10<br>Range: 6 - 8<br><br>Top 15:<br>1982: Rocky III (7/10)<br>2004: Million Dollar Baby (8/10)<br>2009: Invictus (8/10)<br>2011: Cars 2 (7/10)<br>2011: Real Steel (8/10)<br>2013: Rush (8/10)<br>2014: Pawn Sacrifice (8/10)<br>2014: Unbroken (7/10)<br>2015: Concussion (8/10)<br>2015: Eddie the Eagle (8/10)<br>2016: Queen of Katwe (8/10)<br>2016: Race (8/10)<br>2017: AlphaGo (8/10)<br>2017: I, Tonya (8/10)<br>2020: Ted Lasso (8/10)<br>...and more<extra></extra>",
         "line": {
          "color": "#f0c46c"
         },
         "mode": "lines",
         "showlegend": false,
         "text": "Genre: sport<br>Raw count: 20<br>Weighted count: 6<br>Avg rating: 7.5/10<br>Range: 6 - 8<br><br>Top 15:<br>1982: Rocky III (7/10)<br>2004: Million Dollar Baby (8/10)<br>2009: Invictus (8/10)<br>2011: Cars 2 (7/10)<br>2011: Real Steel (8/10)<br>2013: Rush (8/10)<br>2014: Pawn Sacrifice (8/10)<br>2014: Unbroken (7/10)<br>2015: Concussion (8/10)<br>2015: Eddie the Eagle (8/10)<br>2016: Queen of Katwe (8/10)<br>2016: Race (8/10)<br>2017: AlphaGo (8/10)<br>2017: I, Tonya (8/10)<br>2020: Ted Lasso (8/10)<br>...and more",
         "type": "scatter",
         "x": [
          7.45,
          8,
          7.45,
          6,
          7.45
         ],
         "y": [
          13.383009697751152,
          13,
          12.616990302248848,
          13,
          13.383009697751152
         ]
        },
        {
         "fill": "toself",
         "fillcolor": "#ffa256",
         "hoverinfo": "text",
         "hovertemplate": "Genre: music/musical<br>Raw count: 18<br>Weighted count: 5<br>Avg rating: 7.2/10<br>Range: 6 - 8<br><br>Top 15:<br>1984: Amadeus (7/10)<br>1994: The Lion King (7/10)<br>2002: 8 Mile (7/10)<br>2002: The Pianist (8/10)<br>2007: Enchanted (7/10)<br>2011: Samsara (8/10)<br>2013: Frozen (7/10)<br>2014: Annie (7/10)<br>2015: Frozen Fever (7/10)<br>2015: Home (7/10)<br>2016: La La Land (7/10)<br>2016: The Jungle Book (8/10)<br>2018: Bohemian Rhapsody (8/10)<br>2018: Green Book (8/10)<br>2022: The Playlist (8/10)<br>...and more<extra></extra>",
         "line": {
          "color": "#ffa256"
         },
         "mode": "lines",
         "showlegend": false,
         "text": "Genre: music/musical<br>Raw count: 18<br>Weighted count: 5<br>Avg rating: 7.2/10<br>Range: 6 - 8<br><br>Top 15:<br>1984: Amadeus (7/10)<br>1994: The Lion King (7/10)<br>2002: 8 Mile (7/10)<br>2002: The Pianist (8/10)<br>2007: Enchanted (7/10)<br>2011: Samsara (8/10)<br>2013: Frozen (7/10)<br>2014: Annie (7/10)<br>2015: Frozen Fever (7/10)<br>2015: Home (7/10)<br>2016: La La Land (7/10)<br>2016: The Jungle Book (8/10)<br>2018: Bohemian Rhapsody (8/10)<br>2018: Green Book (8/10)<br>2022: The Playlist (8/10)<br>...and more",
         "type": "scatter",
         "x": [
          7.166666666666667,
          8,
          7.166666666666667,
          6,
          7.166666666666667
         ],
         "y": [
          14.356654427916409,
          14,
          13.643345572083591,
          14,
          14.356654427916409
         ]
        },
        {
         "fill": "toself",
         "fillcolor": "#ff7e41",
         "hoverinfo": "text",
         "hovertemplate": "Genre: short<br>Raw count: 11<br>Weighted count: 2<br>Avg rating: 7.3/10<br>Range: 6 - 8<br><br>Top 11:<br>2015: Frozen Fever (7/10)<br>2016: Code 8 (8/10)<br>2018: The Trader (6/10)<br>2019: Love, Death & Robots (8/10)<br>2020: Two Distant Strangers (7/10)<br>2022: Baymax! (7/10)<br>2022: Star Wars: Tales of the Jedi (8/10)<br>2022: The Boys Presents: Diabolical (8/10)<br>2023: The Wonderful Story of Henry Sugar<br>(7/10)<br>2024: Star Wars: Tales of the Empire (7/10)<br>2025: Star Wars: Tales of the Underworld<br>(7/10)<extra></extra>",
         "line": {
          "color": "#ff7e41"
         },
         "mode": "lines",
         "showlegend": false,
         "text": "Genre: short<br>Raw count: 11<br>Weighted count: 2<br>Avg rating: 7.3/10<br>Range: 6 - 8<br><br>Top 11:<br>2015: Frozen Fever (7/10)<br>2016: Code 8 (8/10)<br>2018: The Trader (6/10)<br>2019: Love, Death & Robots (8/10)<br>2020: Two Distant Strangers (7/10)<br>2022: Baymax! (7/10)<br>2022: Star Wars: Tales of the Jedi (8/10)<br>2022: The Boys Presents: Diabolical (8/10)<br>2023: The Wonderful Story of Henry Sugar<br>(7/10)<br>2024: Star Wars: Tales of the Empire (7/10)<br>2025: Star Wars: Tales of the Underworld<br>(7/10)",
         "type": "scatter",
         "x": [
          7.2727272727272725,
          8,
          7.2727272727272725,
          6,
          7.2727272727272725
         ],
         "y": [
          15.237882751504188,
          15,
          14.762117248495812,
          15,
          15.237882751504188
         ]
        },
        {
         "fill": "toself",
         "fillcolor": "#ff562c",
         "hoverinfo": "text",
         "hovertemplate": "Genre: reality/talkshow<br>Raw count: 3<br>Weighted count: 2<br>Avg rating: 6.7/10<br>Range: 6 - 8<br><br>Top 3:<br>2011: American Guns (6/10)<br>2014: Last Week Tonight with John Oliver<br>(8/10)<br>2024: Love Is Blind: Sweden (6/10)<extra></extra>",
         "line": {
          "color": "#ff562c"
         },
         "mode": "lines",
         "showlegend": false,
         "text": "Genre: reality/talkshow<br>Raw count: 3<br>Weighted count: 2<br>Avg rating: 6.7/10<br>Range: 6 - 8<br><br>Top 3:<br>2011: American Guns (6/10)<br>2014: Last Week Tonight with John Oliver<br>(8/10)<br>2024: Love Is Blind: Sweden (6/10)",
         "type": "scatter",
         "x": [
          6.666666666666667,
          8,
          6.666666666666667,
          6,
          6.666666666666667
         ],
         "y": [
          16.20412414523193,
          16,
          15.795875854768068,
          16,
          16.20412414523193
         ]
        },
        {
         "fill": "toself",
         "fillcolor": "#ff2c16",
         "hoverinfo": "text",
         "hovertemplate": "Genre: news<br>Raw count: 2<br>Weighted count: 1<br>Avg rating: 7.5/10<br>Range: 7 - 8<br><br>Top 2:<br>2014: Last Week Tonight with John Oliver<br>(8/10)<br>2014: The Rise and Rise of Bitcoin (7/10)<extra></extra>",
         "line": {
          "color": "#ff2c16"
         },
         "mode": "lines",
         "showlegend": false,
         "text": "Genre: news<br>Raw count: 2<br>Weighted count: 1<br>Avg rating: 7.5/10<br>Range: 7 - 8<br><br>Top 2:<br>2014: Last Week Tonight with John Oliver<br>(8/10)<br>2014: The Rise and Rise of Bitcoin (7/10)",
         "type": "scatter",
         "x": [
          7.5,
          8,
          7.5,
          7,
          7.5
         ],
         "y": [
          17.25819888974716,
          17,
          16.74180111025284,
          17,
          17.25819888974716
         ]
        },
        {
         "fill": "toself",
         "fillcolor": "#ff0000",
         "hoverinfo": "text",
         "hovertemplate": "Genre: gameshow<br>Raw count: 1<br>Weighted count: 0<br>Avg rating: 6.0/10<br>Range: 6 - 6<br><br>Top 1:<br>2024: Love Is Blind: Sweden (6/10)<extra></extra>",
         "line": {
          "color": "#ff0000"
         },
         "mode": "lines",
         "showlegend": false,
         "text": "Genre: gameshow<br>Raw count: 1<br>Weighted count: 0<br>Avg rating: 6.0/10<br>Range: 6 - 6<br><br>Top 1:<br>2024: Love Is Blind: Sweden (6/10)",
         "type": "scatter",
         "x": [
          6,
          6,
          6,
          6,
          6
         ],
         "y": [
          null,
          18,
          null,
          18,
          null
         ]
        }
       ],
       "layout": {
        "annotations": [
         {
          "align": "right",
          "font": {
           "color": "#8000ff",
           "size": 12
          },
          "showarrow": false,
          "text": "action/adventure",
          "x": 0.005,
          "xanchor": "right",
          "xref": "paper",
          "y": 0,
          "yanchor": "middle"
         },
         {
          "align": "right",
          "font": {
           "color": "#642cfe",
           "size": 12
          },
          "showarrow": false,
          "text": "drama",
          "x": 0.005,
          "xanchor": "right",
          "xref": "paper",
          "y": 1,
          "yanchor": "middle"
         },
         {
          "align": "right",
          "font": {
           "color": "#4856fb",
           "size": 12
          },
          "showarrow": false,
          "text": "mystery/thriller",
          "x": 0.005,
          "xanchor": "right",
          "xref": "paper",
          "y": 2,
          "yanchor": "middle"
         },
         {
          "align": "right",
          "font": {
           "color": "#2c7ef7",
           "size": 12
          },
          "showarrow": false,
          "text": "scifi/fantasy",
          "x": 0.005,
          "xanchor": "right",
          "xref": "paper",
          "y": 3,
          "yanchor": "middle"
         },
         {
          "align": "right",
          "font": {
           "color": "#10a2f0",
           "size": 12
          },
          "showarrow": false,
          "text": "comedy",
          "x": 0.005,
          "xanchor": "right",
          "xref": "paper",
          "y": 4,
          "yanchor": "middle"
         },
         {
          "align": "right",
          "font": {
           "color": "#0fc4e7",
           "size": 12
          },
          "showarrow": false,
          "text": "crime",
          "x": 0.005,
          "xanchor": "right",
          "xref": "paper",
          "y": 5,
          "yanchor": "middle"
         },
         {
          "align": "right",
          "font": {
           "color": "#2adddd",
           "size": 12
          },
          "showarrow": false,
          "text": "history/biography",
          "x": 0.005,
          "xanchor": "right",
          "xref": "paper",
          "y": 6,
          "yanchor": "middle"
         },
         {
          "align": "right",
          "font": {
           "color": "#46efd1",
           "size": 12
          },
          "showarrow": false,
          "text": "documentary",
          "x": 0.005,
          "xanchor": "right",
          "xref": "paper",
          "y": 7,
          "yanchor": "middle"
         },
         {
          "align": "right",
          "font": {
           "color": "#62fbc4",
           "size": 12
          },
          "showarrow": false,
          "text": "romance",
          "x": 0.005,
          "xanchor": "right",
          "xref": "paper",
          "y": 8,
          "yanchor": "middle"
         },
         {
          "align": "right",
          "font": {
           "color": "#80ffb4",
           "size": 12
          },
          "showarrow": false,
          "text": "war/western",
          "x": 0.005,
          "xanchor": "right",
          "xref": "paper",
          "y": 9,
          "yanchor": "middle"
         },
         {
          "align": "right",
          "font": {
           "color": "#9cfba4",
           "size": 12
          },
          "showarrow": false,
          "text": "horror",
          "x": 0.005,
          "xanchor": "right",
          "xref": "paper",
          "y": 10,
          "yanchor": "middle"
         },
         {
          "align": "right",
          "font": {
           "color": "#b9ef92",
           "size": 12
          },
          "showarrow": false,
          "text": "family",
          "x": 0.005,
          "xanchor": "right",
          "xref": "paper",
          "y": 11,
          "yanchor": "middle"
         },
         {
          "align": "right",
          "font": {
           "color": "#d4dd80",
           "size": 12
          },
          "showarrow": false,
          "text": "animation",
          "x": 0.005,
          "xanchor": "right",
          "xref": "paper",
          "y": 12,
          "yanchor": "middle"
         },
         {
          "align": "right",
          "font": {
           "color": "#f0c46c",
           "size": 12
          },
          "showarrow": false,
          "text": "sport",
          "x": 0.005,
          "xanchor": "right",
          "xref": "paper",
          "y": 13,
          "yanchor": "middle"
         },
         {
          "align": "right",
          "font": {
           "color": "#ffa256",
           "size": 12
          },
          "showarrow": false,
          "text": "music/musical",
          "x": 0.005,
          "xanchor": "right",
          "xref": "paper",
          "y": 14,
          "yanchor": "middle"
         },
         {
          "align": "right",
          "font": {
           "color": "#ff7e41",
           "size": 12
          },
          "showarrow": false,
          "text": "short",
          "x": 0.005,
          "xanchor": "right",
          "xref": "paper",
          "y": 15,
          "yanchor": "middle"
         },
         {
          "align": "right",
          "font": {
           "color": "#ff562c",
           "size": 12
          },
          "showarrow": false,
          "text": "reality/talkshow",
          "x": 0.005,
          "xanchor": "right",
          "xref": "paper",
          "y": 16,
          "yanchor": "middle"
         },
         {
          "align": "right",
          "font": {
           "color": "#ff2c16",
           "size": 12
          },
          "showarrow": false,
          "text": "news",
          "x": 0.005,
          "xanchor": "right",
          "xref": "paper",
          "y": 17,
          "yanchor": "middle"
         },
         {
          "align": "right",
          "font": {
           "color": "#ff0000",
           "size": 12
          },
          "showarrow": false,
          "text": "gameshow",
          "x": 0.005,
          "xanchor": "right",
          "xref": "paper",
          "y": 18,
          "yanchor": "middle"
         }
        ],
        "dragmode": false,
        "height": 520,
        "hoverlabel": {
         "align": "left",
         "font": {
          "size": 12
         }
        },
        "margin": {
         "b": 10,
         "l": 108,
         "r": 10,
         "t": 10
        },
        "template": {
         "data": {
          "bar": [
           {
            "error_x": {
             "color": "#f2f5fa"
            },
            "error_y": {
             "color": "#f2f5fa"
            },
            "marker": {
             "line": {
              "color": "rgb(17,17,17)",
              "width": 0.5
             },
             "pattern": {
              "fillmode": "overlay",
              "size": 10,
              "solidity": 0.2
             }
            },
            "type": "bar"
           }
          ],
          "barpolar": [
           {
            "marker": {
             "line": {
              "color": "rgb(17,17,17)",
              "width": 0.5
             },
             "pattern": {
              "fillmode": "overlay",
              "size": 10,
              "solidity": 0.2
             }
            },
            "type": "barpolar"
           }
          ],
          "carpet": [
           {
            "aaxis": {
             "endlinecolor": "#A2B1C6",
             "gridcolor": "#506784",
             "linecolor": "#506784",
             "minorgridcolor": "#506784",
             "startlinecolor": "#A2B1C6"
            },
            "baxis": {
             "endlinecolor": "#A2B1C6",
             "gridcolor": "#506784",
             "linecolor": "#506784",
             "minorgridcolor": "#506784",
             "startlinecolor": "#A2B1C6"
            },
            "type": "carpet"
           }
          ],
          "choropleth": [
           {
            "colorbar": {
             "outlinewidth": 0,
             "ticks": ""
            },
            "type": "choropleth"
           }
          ],
          "contour": [
           {
            "colorbar": {
             "outlinewidth": 0,
             "ticks": ""
            },
            "colorscale": [
             [
              0,
              "#0d0887"
             ],
             [
              0.1111111111111111,
              "#46039f"
             ],
             [
              0.2222222222222222,
              "#7201a8"
             ],
             [
              0.3333333333333333,
              "#9c179e"
             ],
             [
              0.4444444444444444,
              "#bd3786"
             ],
             [
              0.5555555555555556,
              "#d8576b"
             ],
             [
              0.6666666666666666,
              "#ed7953"
             ],
             [
              0.7777777777777778,
              "#fb9f3a"
             ],
             [
              0.8888888888888888,
              "#fdca26"
             ],
             [
              1,
              "#f0f921"
             ]
            ],
            "type": "contour"
           }
          ],
          "contourcarpet": [
           {
            "colorbar": {
             "outlinewidth": 0,
             "ticks": ""
            },
            "type": "contourcarpet"
           }
          ],
          "heatmap": [
           {
            "colorbar": {
             "outlinewidth": 0,
             "ticks": ""
            },
            "colorscale": [
             [
              0,
              "#0d0887"
             ],
             [
              0.1111111111111111,
              "#46039f"
             ],
             [
              0.2222222222222222,
              "#7201a8"
             ],
             [
              0.3333333333333333,
              "#9c179e"
             ],
             [
              0.4444444444444444,
              "#bd3786"
             ],
             [
              0.5555555555555556,
              "#d8576b"
             ],
             [
              0.6666666666666666,
              "#ed7953"
             ],
             [
              0.7777777777777778,
              "#fb9f3a"
             ],
             [
              0.8888888888888888,
              "#fdca26"
             ],
             [
              1,
              "#f0f921"
             ]
            ],
            "type": "heatmap"
           }
          ],
          "histogram": [
           {
            "marker": {
             "pattern": {
              "fillmode": "overlay",
              "size": 10,
              "solidity": 0.2
             }
            },
            "type": "histogram"
           }
          ],
          "histogram2d": [
           {
            "colorbar": {
             "outlinewidth": 0,
             "ticks": ""
            },
            "colorscale": [
             [
              0,
              "#0d0887"
             ],
             [
              0.1111111111111111,
              "#46039f"
             ],
             [
              0.2222222222222222,
              "#7201a8"
             ],
             [
              0.3333333333333333,
              "#9c179e"
             ],
             [
              0.4444444444444444,
              "#bd3786"
             ],
             [
              0.5555555555555556,
              "#d8576b"
             ],
             [
              0.6666666666666666,
              "#ed7953"
             ],
             [
              0.7777777777777778,
              "#fb9f3a"
             ],
             [
              0.8888888888888888,
              "#fdca26"
             ],
             [
              1,
              "#f0f921"
             ]
            ],
            "type": "histogram2d"
           }
          ],
          "histogram2dcontour": [
           {
            "colorbar": {
             "outlinewidth": 0,
             "ticks": ""
            },
            "colorscale": [
             [
              0,
              "#0d0887"
             ],
             [
              0.1111111111111111,
              "#46039f"
             ],
             [
              0.2222222222222222,
              "#7201a8"
             ],
             [
              0.3333333333333333,
              "#9c179e"
             ],
             [
              0.4444444444444444,
              "#bd3786"
             ],
             [
              0.5555555555555556,
              "#d8576b"
             ],
             [
              0.6666666666666666,
              "#ed7953"
             ],
             [
              0.7777777777777778,
              "#fb9f3a"
             ],
             [
              0.8888888888888888,
              "#fdca26"
             ],
             [
              1,
              "#f0f921"
             ]
            ],
            "type": "histogram2dcontour"
           }
          ],
          "mesh3d": [
           {
            "colorbar": {
             "outlinewidth": 0,
             "ticks": ""
            },
            "type": "mesh3d"
           }
          ],
          "parcoords": [
           {
            "line": {
             "colorbar": {
              "outlinewidth": 0,
              "ticks": ""
             }
            },
            "type": "parcoords"
           }
          ],
          "pie": [
           {
            "automargin": true,
            "type": "pie"
           }
          ],
          "scatter": [
           {
            "marker": {
             "line": {
              "color": "#283442"
             }
            },
            "type": "scatter"
           }
          ],
          "scatter3d": [
           {
            "line": {
             "colorbar": {
              "outlinewidth": 0,
              "ticks": ""
             }
            },
            "marker": {
             "colorbar": {
              "outlinewidth": 0,
              "ticks": ""
             }
            },
            "type": "scatter3d"
           }
          ],
          "scattercarpet": [
           {
            "marker": {
             "colorbar": {
              "outlinewidth": 0,
              "ticks": ""
             }
            },
            "type": "scattercarpet"
           }
          ],
          "scattergeo": [
           {
            "marker": {
             "colorbar": {
              "outlinewidth": 0,
              "ticks": ""
             }
            },
            "type": "scattergeo"
           }
          ],
          "scattergl": [
           {
            "marker": {
             "line": {
              "color": "#283442"
             }
            },
            "type": "scattergl"
           }
          ],
          "scattermap": [
           {
            "marker": {
             "colorbar": {
              "outlinewidth": 0,
              "ticks": ""
             }
            },
            "type": "scattermap"
           }
          ],
          "scattermapbox": [
           {
            "marker": {
             "colorbar": {
              "outlinewidth": 0,
              "ticks": ""
             }
            },
            "type": "scattermapbox"
           }
          ],
          "scatterpolar": [
           {
            "marker": {
             "colorbar": {
              "outlinewidth": 0,
              "ticks": ""
             }
            },
            "type": "scatterpolar"
           }
          ],
          "scatterpolargl": [
           {
            "marker": {
             "colorbar": {
              "outlinewidth": 0,
              "ticks": ""
             }
            },
            "type": "scatterpolargl"
           }
          ],
          "scatterternary": [
           {
            "marker": {
             "colorbar": {
              "outlinewidth": 0,
              "ticks": ""
             }
            },
            "type": "scatterternary"
           }
          ],
          "surface": [
           {
            "colorbar": {
             "outlinewidth": 0,
             "ticks": ""
            },
            "colorscale": [
             [
              0,
              "#0d0887"
             ],
             [
              0.1111111111111111,
              "#46039f"
             ],
             [
              0.2222222222222222,
              "#7201a8"
             ],
             [
              0.3333333333333333,
              "#9c179e"
             ],
             [
              0.4444444444444444,
              "#bd3786"
             ],
             [
              0.5555555555555556,
              "#d8576b"
             ],
             [
              0.6666666666666666,
              "#ed7953"
             ],
             [
              0.7777777777777778,
              "#fb9f3a"
             ],
             [
              0.8888888888888888,
              "#fdca26"
             ],
             [
              1,
              "#f0f921"
             ]
            ],
            "type": "surface"
           }
          ],
          "table": [
           {
            "cells": {
             "fill": {
              "color": "#506784"
             },
             "line": {
              "color": "rgb(17,17,17)"
             }
            },
            "header": {
             "fill": {
              "color": "#2a3f5f"
             },
             "line": {
              "color": "rgb(17,17,17)"
             }
            },
            "type": "table"
           }
          ]
         },
         "layout": {
          "annotationdefaults": {
           "arrowcolor": "#f2f5fa",
           "arrowhead": 0,
           "arrowwidth": 1
          },
          "autotypenumbers": "strict",
          "coloraxis": {
           "colorbar": {
            "outlinewidth": 0,
            "ticks": ""
           }
          },
          "colorscale": {
           "diverging": [
            [
             0,
             "#8e0152"
            ],
            [
             0.1,
             "#c51b7d"
            ],
            [
             0.2,
             "#de77ae"
            ],
            [
             0.3,
             "#f1b6da"
            ],
            [
             0.4,
             "#fde0ef"
            ],
            [
             0.5,
             "#f7f7f7"
            ],
            [
             0.6,
             "#e6f5d0"
            ],
            [
             0.7,
             "#b8e186"
            ],
            [
             0.8,
             "#7fbc41"
            ],
            [
             0.9,
             "#4d9221"
            ],
            [
             1,
             "#276419"
            ]
           ],
           "sequential": [
            [
             0,
             "#0d0887"
            ],
            [
             0.1111111111111111,
             "#46039f"
            ],
            [
             0.2222222222222222,
             "#7201a8"
            ],
            [
             0.3333333333333333,
             "#9c179e"
            ],
            [
             0.4444444444444444,
             "#bd3786"
            ],
            [
             0.5555555555555556,
             "#d8576b"
            ],
            [
             0.6666666666666666,
             "#ed7953"
            ],
            [
             0.7777777777777778,
             "#fb9f3a"
            ],
            [
             0.8888888888888888,
             "#fdca26"
            ],
            [
             1,
             "#f0f921"
            ]
           ],
           "sequentialminus": [
            [
             0,
             "#0d0887"
            ],
            [
             0.1111111111111111,
             "#46039f"
            ],
            [
             0.2222222222222222,
             "#7201a8"
            ],
            [
             0.3333333333333333,
             "#9c179e"
            ],
            [
             0.4444444444444444,
             "#bd3786"
            ],
            [
             0.5555555555555556,
             "#d8576b"
            ],
            [
             0.6666666666666666,
             "#ed7953"
            ],
            [
             0.7777777777777778,
             "#fb9f3a"
            ],
            [
             0.8888888888888888,
             "#fdca26"
            ],
            [
             1,
             "#f0f921"
            ]
           ]
          },
          "colorway": [
           "#636efa",
           "#EF553B",
           "#00cc96",
           "#ab63fa",
           "#FFA15A",
           "#19d3f3",
           "#FF6692",
           "#B6E880",
           "#FF97FF",
           "#FECB52"
          ],
          "font": {
           "color": "#f2f5fa"
          },
          "geo": {
           "bgcolor": "rgb(17,17,17)",
           "lakecolor": "rgb(17,17,17)",
           "landcolor": "rgb(17,17,17)",
           "showlakes": true,
           "showland": true,
           "subunitcolor": "#506784"
          },
          "hoverlabel": {
           "align": "left"
          },
          "hovermode": "closest",
          "mapbox": {
           "style": "dark"
          },
          "paper_bgcolor": "rgb(17,17,17)",
          "plot_bgcolor": "rgb(17,17,17)",
          "polar": {
           "angularaxis": {
            "gridcolor": "#506784",
            "linecolor": "#506784",
            "ticks": ""
           },
           "bgcolor": "rgb(17,17,17)",
           "radialaxis": {
            "gridcolor": "#506784",
            "linecolor": "#506784",
            "ticks": ""
           }
          },
          "scene": {
           "xaxis": {
            "backgroundcolor": "rgb(17,17,17)",
            "gridcolor": "#506784",
            "gridwidth": 2,
            "linecolor": "#506784",
            "showbackground": true,
            "ticks": "",
            "zerolinecolor": "#C8D4E3"
           },
           "yaxis": {
            "backgroundcolor": "rgb(17,17,17)",
            "gridcolor": "#506784",
            "gridwidth": 2,
            "linecolor": "#506784",
            "showbackground": true,
            "ticks": "",
            "zerolinecolor": "#C8D4E3"
           },
           "zaxis": {
            "backgroundcolor": "rgb(17,17,17)",
            "gridcolor": "#506784",
            "gridwidth": 2,
            "linecolor": "#506784",
            "showbackground": true,
            "ticks": "",
            "zerolinecolor": "#C8D4E3"
           }
          },
          "shapedefaults": {
           "line": {
            "color": "#f2f5fa"
           }
          },
          "sliderdefaults": {
           "bgcolor": "#C8D4E3",
           "bordercolor": "rgb(17,17,17)",
           "borderwidth": 1,
           "tickwidth": 0
          },
          "ternary": {
           "aaxis": {
            "gridcolor": "#506784",
            "linecolor": "#506784",
            "ticks": ""
           },
           "baxis": {
            "gridcolor": "#506784",
            "linecolor": "#506784",
            "ticks": ""
           },
           "bgcolor": "rgb(17,17,17)",
           "caxis": {
            "gridcolor": "#506784",
            "linecolor": "#506784",
            "ticks": ""
           }
          },
          "title": {
           "x": 0.05
          },
          "updatemenudefaults": {
           "bgcolor": "#506784",
           "borderwidth": 0
          },
          "xaxis": {
           "automargin": true,
           "gridcolor": "#283442",
           "linecolor": "#506784",
           "ticks": "",
           "title": {
            "standoff": 15
           },
           "zerolinecolor": "#283442",
           "zerolinewidth": 2
          },
          "yaxis": {
           "automargin": true,
           "gridcolor": "#283442",
           "linecolor": "#506784",
           "ticks": "",
           "title": {
            "standoff": 15
           },
           "zerolinecolor": "#283442",
           "zerolinewidth": 2
          }
         }
        },
        "title": {
         "font": {
          "size": 16
         },
         "text": "1555 movies/TVs by genre and rating",
         "x": 0.5,
         "xanchor": "center",
         "y": 0.98
        },
        "xaxis": {
         "fixedrange": true,
         "range": [
          2.8,
          10.2
         ],
         "showgrid": false
        },
        "yaxis": {
         "autorange": "reversed",
         "fixedrange": true,
         "showgrid": false,
         "ticktext": [
          "",
          "",
          "",
          "",
          "",
          "",
          "",
          "",
          "",
          "",
          "",
          "",
          "",
          "",
          "",
          "",
          "",
          "",
          ""
         ],
         "tickvals": [
          0,
          1,
          2,
          3,
          4,
          5,
          6,
          7,
          8,
          9,
          10,
          11,
          12,
          13,
          14,
          15,
          16,
          17,
          18
         ],
         "zeroline": false
        }
       }
      }
     },
     "metadata": {},
     "output_type": "display_data"
    }
   ],
   "source": [
    "df_ = df\n",
    "genre_cols = [col for col in df_.columns if col.startswith('genre_')]\n",
    "\n",
    "# Sum weighted counts per genre\n",
    "df_by_genre = df_[genre_cols].sum(axis=0).reset_index()\n",
    "df_by_genre.columns = ['genre', 'weighted_count']\n",
    "df_by_genre['genre'] = df_by_genre['genre'].str.replace('^genre_', '', regex=True)\n",
    "\n",
    "# Raw counts per genre\n",
    "raw_counts = [(df_[col] > 0).sum() for col in genre_cols]\n",
    "df_by_genre['raw_count'] = raw_counts\n",
    "\n",
    "# Average rating per genre\n",
    "means = []\n",
    "for col in genre_cols:\n",
    "    mask = df_[col] > 0\n",
    "    mean_rating = df_.loc[mask, 'your_rating'].mean() if mask.sum() > 0 else None\n",
    "    means.append(mean_rating)\n",
    "df_by_genre['avg_rating'] = means\n",
    "\n",
    "# Min and max rating per genre (needed for diamond vertical extent)\n",
    "mins = []\n",
    "maxs = []\n",
    "for col in genre_cols:\n",
    "    mask = df_[col] > 0\n",
    "    min_rating = df_.loc[mask, 'your_rating'].min() if mask.sum() > 0 else None\n",
    "    max_rating = df_.loc[mask, 'your_rating'].max() if mask.sum() > 0 else None\n",
    "    mins.append(min_rating)\n",
    "    maxs.append(max_rating)\n",
    "df_by_genre['min_rating'] = mins\n",
    "df_by_genre['max_rating'] = maxs\n",
    "\n",
    "# Helper function to wrap long lines for hover text\n",
    "def wrap_line(line, width=45):\n",
    "    return '<br>'.join(textwrap.wrap(line, width=width))\n",
    "\n",
    "# Format top titles with line breaks for wrapping\n",
    "def format_top_titles(titles, is_truncated, top_n=15):\n",
    "    displayed_titles = titles[:top_n] if len(titles) > top_n else titles\n",
    "    lines = [f\"Top {len(displayed_titles)}:\"] + displayed_titles\n",
    "    wrapped_lines = [wrap_line(line) for line in lines]\n",
    "    text = '<br>'.join(wrapped_lines)\n",
    "    return text + (\"<br>...and more\" if is_truncated else \"\")\n",
    "\n",
    "# Precompute top movies per genre\n",
    "top_n = 15\n",
    "top_movies_per_genre = {}\n",
    "for col in genre_cols:\n",
    "    mask = df_[col] > 0\n",
    "    filtered = df_.loc[mask, ['title', 'year', 'your_rating']]\n",
    "    total_movies = filtered.shape[0]\n",
    "    top_rated = filtered.sort_values('your_rating', ascending=False).head(top_n)\n",
    "    top_sorted = top_rated.sort_values(['year', 'title'])\n",
    "    formatted_titles = [\n",
    "        f\"{int(row['year'])}: {row['title']} ({row['your_rating']}/10)\"\n",
    "        for _, row in top_sorted.iterrows()\n",
    "    ]\n",
    "    is_truncated = total_movies > top_n\n",
    "    top_movies_per_genre[col] = (formatted_titles, is_truncated)\n",
    "\n",
    "df_by_genre['top'] = df_by_genre['genre'].apply(\n",
    "    lambda g: format_top_titles(*top_movies_per_genre.get(f'genre_{g}', ([], False)))\n",
    ")\n",
    "\n",
    "# Sort descending by weighted_count (largest on top)\n",
    "df_by_genre = df_by_genre.sort_values('weighted_count', ascending=False).reset_index(drop=True)\n",
    "# Removed reversal: df_by_genre = df_by_genre[::-1]\n",
    "\n",
    "# Rescale avg_rating, min_rating, max_rating to original rating scale for x-axis\n",
    "min_orig = df_['your_rating'].min()\n",
    "max_orig = df_['your_rating'].max()\n",
    "\n",
    "# Marker area proportional to weighted count\n",
    "size_factor = 4e-1\n",
    "areas = np.sqrt(df_by_genre['weighted_count'] * size_factor)\n",
    "\n",
    "# Assign colors using reversed rainbow colormap\n",
    "n_genres = len(df_by_genre)\n",
    "spectral = cm.get_cmap('rainbow')\n",
    "color_vals = np.linspace(0, 1, n_genres)\n",
    "genre_list = df_by_genre['genre'].tolist()\n",
    "genre_colors = {\n",
    "    genre: to_hex(spectral(val))\n",
    "    for genre, val in zip(genre_list, color_vals)\n",
    "}\n",
    "\n",
    "# Prepare hover text strings\n",
    "hover_texts = []\n",
    "for _, row in df_by_genre.iterrows():\n",
    "    hover_text = (\n",
    "        f\"Genre: {row['genre']}<br>\"\n",
    "        f\"Raw count: {row['raw_count']}<br>\"\n",
    "        f\"Weighted count: {row['weighted_count']:.0f}<br>\"\n",
    "        f\"Avg rating: {row['avg_rating']:.1f}/10<br>\"\n",
    "        f\"Range: {row['min_rating']:.0f} - {row['max_rating']:.0f}<br><br>\"\n",
    "        f\"{row['top']}\"\n",
    "    )\n",
    "    hover_texts.append(hover_text)\n",
    "\n",
    "# Build diamond shapes as polygons, y is numeric index\n",
    "diamond_traces = []\n",
    "for i, row in df_by_genre.iterrows():\n",
    "    genre = row['genre']\n",
    "    avg = row['avg_rating']\n",
    "    min_r = row['min_rating']\n",
    "    max_r = row['max_rating']\n",
    "    area = np.sqrt(row['weighted_count'] * size_factor)\n",
    "    color = genre_colors[genre]\n",
    "\n",
    "    y = i  # y-axis numeric position\n",
    "\n",
    "    # Calculate diamond vertical height from rating range and area\n",
    "    vertical_height = area/(max_r - min_r)\n",
    "    if vertical_height == 0:\n",
    "        vertical_height = 0.01  # fallback minimal height to avoid zero area\n",
    "    # Area of diamond = width * height; width = area / height\n",
    "    half_height = vertical_height / 2\n",
    "    half_width = area / vertical_height / 2\n",
    "\n",
    "    # Diamond vertices coordinates (clockwise):\n",
    "    # Top vertex: (avg, y + half_height)\n",
    "    # Right vertex: (avg + half_width, y)\n",
    "    # Bottom vertex: (avg, y - half_height)\n",
    "    # Left vertex: (avg - half_width, y)\n",
    "    # Close polygon back to top vertex\n",
    "    x_pts = [avg, max_r, avg, min_r, avg]\n",
    "    y_pts = [y + half_height, y, y - half_height, y, y + half_height]\n",
    "\n",
    "    diamond_trace = go.Scatter(\n",
    "        x=x_pts,\n",
    "        y=y_pts,\n",
    "        mode='lines',\n",
    "        fill='toself',\n",
    "        line=dict(color=color),\n",
    "        fillcolor=color,\n",
    "        hoverinfo='text',\n",
    "        text=hover_texts[i],\n",
    "        showlegend=False,\n",
    "        hovertemplate=hover_texts[i] + \"<extra></extra>\",\n",
    "    )\n",
    "    diamond_traces.append(diamond_trace)\n",
    "\n",
    "# Prepare y-axis ticks but keep labels blank (annotations used instead)\n",
    "y_positions = list(range(len(df_by_genre)))\n",
    "y_labels = df_by_genre['genre'].tolist()\n",
    "\n",
    "annotations = [\n",
    "    dict(\n",
    "        xref='paper',\n",
    "        x=0.005,\n",
    "        y=y_pos,\n",
    "        xanchor='right',\n",
    "        yanchor='middle',\n",
    "        text=genre,\n",
    "        font=dict(color=genre_colors[genre], size=12),\n",
    "        showarrow=False,\n",
    "        align='right'\n",
    "    )\n",
    "    for y_pos, genre in zip(y_positions, y_labels)\n",
    "]\n",
    "\n",
    "fig = go.Figure(data=diamond_traces)\n",
    "\n",
    "fig.update_layout(\n",
    "    title=dict(\n",
    "        text=f'{df.title.nunique()} movies/TVs by genre and rating',\n",
    "        x=0.5,\n",
    "        y=0.98,\n",
    "        xanchor='center',\n",
    "        font=dict(size=16)\n",
    "    ),\n",
    "    xaxis=dict(\n",
    "        range=[min_orig - 0.2, max_orig + 0.2],\n",
    "        showgrid=False,\n",
    "        fixedrange=True,\n",
    "    ),\n",
    "    yaxis=dict(\n",
    "        tickvals=y_positions,\n",
    "        ticktext=[''] * len(y_positions),\n",
    "        showgrid=False,\n",
    "        fixedrange=True,\n",
    "        zeroline=False,\n",
    "        autorange='reversed'  # Reverse y-axis so highest weighted count is at top\n",
    "    ),\n",
    "    annotations=annotations,\n",
    "    template='plotly_dark',\n",
    "    height=520,\n",
    "    margin=dict(t=10, b=10, l=108, r=10),\n",
    "    dragmode=False,\n",
    "    hoverlabel=dict(\n",
    "        align='left',\n",
    "        font_size=12,\n",
    "    )\n",
    ")\n",
    "\n",
    "fig.show(config=dict(scrollZoom=False, doubleClick=False, displayModeBar=True))\n"
   ]
  },
  {
   "cell_type": "code",
   "execution_count": 6,
   "id": "72309276",
   "metadata": {},
   "outputs": [
    {
     "data": {
      "text/html": [
       "<div>\n",
       "<style scoped>\n",
       "    .dataframe tbody tr th:only-of-type {\n",
       "        vertical-align: middle;\n",
       "    }\n",
       "\n",
       "    .dataframe tbody tr th {\n",
       "        vertical-align: top;\n",
       "    }\n",
       "\n",
       "    .dataframe thead th {\n",
       "        text-align: right;\n",
       "    }\n",
       "</style>\n",
       "<table border=\"1\" class=\"dataframe\">\n",
       "  <thead>\n",
       "    <tr style=\"text-align: right;\">\n",
       "      <th></th>\n",
       "      <th>genre</th>\n",
       "      <th>weighted_count</th>\n",
       "      <th>raw_count</th>\n",
       "      <th>avg_rating</th>\n",
       "      <th>min_rating</th>\n",
       "      <th>max_rating</th>\n",
       "      <th>top</th>\n",
       "    </tr>\n",
       "  </thead>\n",
       "  <tbody>\n",
       "    <tr>\n",
       "      <th>0</th>\n",
       "      <td>action/adventure</td>\n",
       "      <td>395.761183</td>\n",
       "      <td>974</td>\n",
       "      <td>7.216632</td>\n",
       "      <td>3</td>\n",
       "      <td>10</td>\n",
       "      <td>Top 15:&lt;br&gt;1991: Terminator 2: Judgment Day (9...</td>\n",
       "    </tr>\n",
       "    <tr>\n",
       "      <th>1</th>\n",
       "      <td>drama</td>\n",
       "      <td>246.486544</td>\n",
       "      <td>776</td>\n",
       "      <td>7.463918</td>\n",
       "      <td>5</td>\n",
       "      <td>10</td>\n",
       "      <td>Top 15:&lt;br&gt;1994: The Shawshank Redemption (9/1...</td>\n",
       "    </tr>\n",
       "    <tr>\n",
       "      <th>2</th>\n",
       "      <td>mystery/thriller</td>\n",
       "      <td>240.983802</td>\n",
       "      <td>718</td>\n",
       "      <td>7.267409</td>\n",
       "      <td>5</td>\n",
       "      <td>10</td>\n",
       "      <td>Top 15:&lt;br&gt;2000: Memento (9/10)&lt;br&gt;2001: A Bea...</td>\n",
       "    </tr>\n",
       "    <tr>\n",
       "      <th>3</th>\n",
       "      <td>scifi/fantasy</td>\n",
       "      <td>210.872691</td>\n",
       "      <td>679</td>\n",
       "      <td>7.347570</td>\n",
       "      <td>3</td>\n",
       "      <td>10</td>\n",
       "      <td>Top 15:&lt;br&gt;1999: The Matrix (9/10)&lt;br&gt;2003: Bi...</td>\n",
       "    </tr>\n",
       "    <tr>\n",
       "      <th>4</th>\n",
       "      <td>comedy</td>\n",
       "      <td>106.992100</td>\n",
       "      <td>328</td>\n",
       "      <td>7.131098</td>\n",
       "      <td>5</td>\n",
       "      <td>9</td>\n",
       "      <td>Top 15:&lt;br&gt;1989: Dead Poets Society (9/10)&lt;br&gt;...</td>\n",
       "    </tr>\n",
       "    <tr>\n",
       "      <th>5</th>\n",
       "      <td>crime</td>\n",
       "      <td>91.445635</td>\n",
       "      <td>339</td>\n",
       "      <td>7.176991</td>\n",
       "      <td>5</td>\n",
       "      <td>10</td>\n",
       "      <td>Top 15:&lt;br&gt;1996: Eraser (8/10)&lt;br&gt;2002: Catch ...</td>\n",
       "    </tr>\n",
       "    <tr>\n",
       "      <th>6</th>\n",
       "      <td>history/biography</td>\n",
       "      <td>69.385714</td>\n",
       "      <td>183</td>\n",
       "      <td>7.464481</td>\n",
       "      <td>5</td>\n",
       "      <td>9</td>\n",
       "      <td>Top 15:&lt;br&gt;1998: The Thin Red Line (9/10)&lt;br&gt;2...</td>\n",
       "    </tr>\n",
       "    <tr>\n",
       "      <th>7</th>\n",
       "      <td>documentary</td>\n",
       "      <td>47.226190</td>\n",
       "      <td>61</td>\n",
       "      <td>7.639344</td>\n",
       "      <td>6</td>\n",
       "      <td>10</td>\n",
       "      <td>Top 15:&lt;br&gt;2006: Nova: Monster of the Milky Wa...</td>\n",
       "    </tr>\n",
       "    <tr>\n",
       "      <th>8</th>\n",
       "      <td>romance</td>\n",
       "      <td>44.573016</td>\n",
       "      <td>140</td>\n",
       "      <td>7.364286</td>\n",
       "      <td>5</td>\n",
       "      <td>9</td>\n",
       "      <td>Top 15:&lt;br&gt;1985: Out of Africa (8/10)&lt;br&gt;1990:...</td>\n",
       "    </tr>\n",
       "    <tr>\n",
       "      <th>9</th>\n",
       "      <td>war/western</td>\n",
       "      <td>40.277381</td>\n",
       "      <td>136</td>\n",
       "      <td>7.375000</td>\n",
       "      <td>5</td>\n",
       "      <td>9</td>\n",
       "      <td>Top 15:&lt;br&gt;1987: Empire of the Sun (8/10)&lt;br&gt;1...</td>\n",
       "    </tr>\n",
       "    <tr>\n",
       "      <th>10</th>\n",
       "      <td>horror</td>\n",
       "      <td>24.692100</td>\n",
       "      <td>83</td>\n",
       "      <td>6.819277</td>\n",
       "      <td>3</td>\n",
       "      <td>9</td>\n",
       "      <td>Top 15:&lt;br&gt;1986: Aliens (8/10)&lt;br&gt;1991: The Si...</td>\n",
       "    </tr>\n",
       "    <tr>\n",
       "      <th>11</th>\n",
       "      <td>family</td>\n",
       "      <td>24.167857</td>\n",
       "      <td>105</td>\n",
       "      <td>7.257143</td>\n",
       "      <td>6</td>\n",
       "      <td>10</td>\n",
       "      <td>Top 15:&lt;br&gt;1990: Mr. Bean (8/10)&lt;br&gt;2001: Harr...</td>\n",
       "    </tr>\n",
       "    <tr>\n",
       "      <th>12</th>\n",
       "      <td>animation</td>\n",
       "      <td>19.249639</td>\n",
       "      <td>103</td>\n",
       "      <td>7.291262</td>\n",
       "      <td>6</td>\n",
       "      <td>9</td>\n",
       "      <td>Top 15:&lt;br&gt;2008: Star Wars: The Clone Wars (9/...</td>\n",
       "    </tr>\n",
       "    <tr>\n",
       "      <th>13</th>\n",
       "      <td>sport</td>\n",
       "      <td>5.867857</td>\n",
       "      <td>20</td>\n",
       "      <td>7.450000</td>\n",
       "      <td>6</td>\n",
       "      <td>8</td>\n",
       "      <td>Top 15:&lt;br&gt;1982: Rocky III (7/10)&lt;br&gt;2004: Mil...</td>\n",
       "    </tr>\n",
       "    <tr>\n",
       "      <th>14</th>\n",
       "      <td>music/musical</td>\n",
       "      <td>5.088095</td>\n",
       "      <td>18</td>\n",
       "      <td>7.166667</td>\n",
       "      <td>6</td>\n",
       "      <td>8</td>\n",
       "      <td>Top 15:&lt;br&gt;1984: Amadeus (7/10)&lt;br&gt;1994: The L...</td>\n",
       "    </tr>\n",
       "    <tr>\n",
       "      <th>15</th>\n",
       "      <td>short</td>\n",
       "      <td>2.263528</td>\n",
       "      <td>11</td>\n",
       "      <td>7.272727</td>\n",
       "      <td>6</td>\n",
       "      <td>8</td>\n",
       "      <td>Top 11:&lt;br&gt;2015: Frozen Fever (7/10)&lt;br&gt;2016: ...</td>\n",
       "    </tr>\n",
       "    <tr>\n",
       "      <th>16</th>\n",
       "      <td>reality/talkshow</td>\n",
       "      <td>1.666667</td>\n",
       "      <td>3</td>\n",
       "      <td>6.666667</td>\n",
       "      <td>6</td>\n",
       "      <td>8</td>\n",
       "      <td>Top 3:&lt;br&gt;2011: American Guns (6/10)&lt;br&gt;2014: ...</td>\n",
       "    </tr>\n",
       "    <tr>\n",
       "      <th>17</th>\n",
       "      <td>news</td>\n",
       "      <td>0.666667</td>\n",
       "      <td>2</td>\n",
       "      <td>7.500000</td>\n",
       "      <td>7</td>\n",
       "      <td>8</td>\n",
       "      <td>Top 2:&lt;br&gt;2014: Last Week Tonight with John Ol...</td>\n",
       "    </tr>\n",
       "    <tr>\n",
       "      <th>18</th>\n",
       "      <td>gameshow</td>\n",
       "      <td>0.333333</td>\n",
       "      <td>1</td>\n",
       "      <td>6.000000</td>\n",
       "      <td>6</td>\n",
       "      <td>6</td>\n",
       "      <td>Top 1:&lt;br&gt;2024: Love Is Blind: Sweden (6/10)</td>\n",
       "    </tr>\n",
       "  </tbody>\n",
       "</table>\n",
       "</div>"
      ],
      "text/plain": [
       "                genre  weighted_count  raw_count  avg_rating  min_rating  \\\n",
       "0    action/adventure      395.761183        974    7.216632           3   \n",
       "1               drama      246.486544        776    7.463918           5   \n",
       "2    mystery/thriller      240.983802        718    7.267409           5   \n",
       "3       scifi/fantasy      210.872691        679    7.347570           3   \n",
       "4              comedy      106.992100        328    7.131098           5   \n",
       "5               crime       91.445635        339    7.176991           5   \n",
       "6   history/biography       69.385714        183    7.464481           5   \n",
       "7         documentary       47.226190         61    7.639344           6   \n",
       "8             romance       44.573016        140    7.364286           5   \n",
       "9         war/western       40.277381        136    7.375000           5   \n",
       "10             horror       24.692100         83    6.819277           3   \n",
       "11             family       24.167857        105    7.257143           6   \n",
       "12          animation       19.249639        103    7.291262           6   \n",
       "13              sport        5.867857         20    7.450000           6   \n",
       "14      music/musical        5.088095         18    7.166667           6   \n",
       "15              short        2.263528         11    7.272727           6   \n",
       "16   reality/talkshow        1.666667          3    6.666667           6   \n",
       "17               news        0.666667          2    7.500000           7   \n",
       "18           gameshow        0.333333          1    6.000000           6   \n",
       "\n",
       "    max_rating                                                top  \n",
       "0           10  Top 15:<br>1991: Terminator 2: Judgment Day (9...  \n",
       "1           10  Top 15:<br>1994: The Shawshank Redemption (9/1...  \n",
       "2           10  Top 15:<br>2000: Memento (9/10)<br>2001: A Bea...  \n",
       "3           10  Top 15:<br>1999: The Matrix (9/10)<br>2003: Bi...  \n",
       "4            9  Top 15:<br>1989: Dead Poets Society (9/10)<br>...  \n",
       "5           10  Top 15:<br>1996: Eraser (8/10)<br>2002: Catch ...  \n",
       "6            9  Top 15:<br>1998: The Thin Red Line (9/10)<br>2...  \n",
       "7           10  Top 15:<br>2006: Nova: Monster of the Milky Wa...  \n",
       "8            9  Top 15:<br>1985: Out of Africa (8/10)<br>1990:...  \n",
       "9            9  Top 15:<br>1987: Empire of the Sun (8/10)<br>1...  \n",
       "10           9  Top 15:<br>1986: Aliens (8/10)<br>1991: The Si...  \n",
       "11          10  Top 15:<br>1990: Mr. Bean (8/10)<br>2001: Harr...  \n",
       "12           9  Top 15:<br>2008: Star Wars: The Clone Wars (9/...  \n",
       "13           8  Top 15:<br>1982: Rocky III (7/10)<br>2004: Mil...  \n",
       "14           8  Top 15:<br>1984: Amadeus (7/10)<br>1994: The L...  \n",
       "15           8  Top 11:<br>2015: Frozen Fever (7/10)<br>2016: ...  \n",
       "16           8  Top 3:<br>2011: American Guns (6/10)<br>2014: ...  \n",
       "17           8  Top 2:<br>2014: Last Week Tonight with John Ol...  \n",
       "18           6       Top 1:<br>2024: Love Is Blind: Sweden (6/10)  "
      ]
     },
     "execution_count": 6,
     "metadata": {},
     "output_type": "execute_result"
    }
   ],
   "source": [
    "df_by_genre"
   ]
  },
  {
   "cell_type": "code",
   "execution_count": null,
   "id": "b082e902",
   "metadata": {},
   "outputs": [],
   "source": [
    "import plotly.io as pio\n",
    "config = {'displayModeBar': False, 'responsive': True}\n",
    "pio.write_html(fig, file='../attachments/IMDb.html', config=config, include_plotlyjs='cdn')"
   ]
  },
  {
   "cell_type": "code",
   "execution_count": null,
   "id": "8688c91d",
   "metadata": {},
   "outputs": [],
   "source": []
  }
 ],
 "metadata": {
  "kernelspec": {
   "display_name": "base",
   "language": "python",
   "name": "python3"
  },
  "language_info": {
   "codemirror_mode": {
    "name": "ipython",
    "version": 3
   },
   "file_extension": ".py",
   "mimetype": "text/x-python",
   "name": "python",
   "nbconvert_exporter": "python",
   "pygments_lexer": "ipython3",
   "version": "3.13.2"
  }
 },
 "nbformat": 4,
 "nbformat_minor": 5
}
